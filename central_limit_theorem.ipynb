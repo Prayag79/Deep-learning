{
  "nbformat": 4,
  "nbformat_minor": 0,
  "metadata": {
    "colab": {
      "provenance": [],
      "authorship_tag": "ABX9TyOoAhyoEFx2FR8UfKv8mOYT",
      "include_colab_link": true
    },
    "kernelspec": {
      "name": "python3",
      "display_name": "Python 3"
    },
    "language_info": {
      "name": "python"
    }
  },
  "cells": [
    {
      "cell_type": "markdown",
      "metadata": {
        "id": "view-in-github",
        "colab_type": "text"
      },
      "source": [
        "<a href=\"https://colab.research.google.com/github/Prayag79/Deep-learning/blob/main/central_limit_theorem.ipynb\" target=\"_parent\"><img src=\"https://colab.research.google.com/assets/colab-badge.svg\" alt=\"Open In Colab\"/></a>"
      ]
    },
    {
      "cell_type": "code",
      "source": [
        "import pandas as pd\n",
        "import numpy as np\n",
        "import matplotlib.pyplot as plt\n"
      ],
      "metadata": {
        "id": "4CIeYj7Mrsua"
      },
      "execution_count": null,
      "outputs": []
    },
    {
      "cell_type": "code",
      "source": [
        "import kagglehub\n",
        "\n",
        "# Download latest version\n",
        "path = kagglehub.dataset_download(\"mustafaali96/weight-height\")\n",
        "\n",
        "print(\"Path to dataset files:\", path)"
      ],
      "metadata": {
        "id": "2XiaeDYMrzvG",
        "colab": {
          "base_uri": "https://localhost:8080/"
        },
        "outputId": "7d225b0c-21ed-4e53-a0f3-57133c043e4b"
      },
      "execution_count": 3,
      "outputs": [
        {
          "output_type": "stream",
          "name": "stdout",
          "text": [
            "Path to dataset files: /kaggle/input/weight-height\n"
          ]
        }
      ]
    },
    {
      "cell_type": "code",
      "source": [
        "df = pd.read_csv(path + \"/weight-height.csv\")"
      ],
      "metadata": {
        "id": "_sjiDJX4tWxp"
      },
      "execution_count": 5,
      "outputs": []
    },
    {
      "cell_type": "code",
      "source": [
        "df.describe()"
      ],
      "metadata": {
        "colab": {
          "base_uri": "https://localhost:8080/",
          "height": 297
        },
        "id": "3XI0Ss_itdQL",
        "outputId": "de940cd2-32f9-4ac3-c24e-686cfdca0488"
      },
      "execution_count": 6,
      "outputs": [
        {
          "output_type": "execute_result",
          "data": {
            "text/plain": [
              "             Height        Weight\n",
              "count  10000.000000  10000.000000\n",
              "mean      66.367560    161.440357\n",
              "std        3.847528     32.108439\n",
              "min       54.263133     64.700127\n",
              "25%       63.505620    135.818051\n",
              "50%       66.318070    161.212928\n",
              "75%       69.174262    187.169525\n",
              "max       78.998742    269.989699"
            ],
            "text/html": [
              "\n",
              "  <div id=\"df-eb95e306-7394-4b46-ab2b-01808eba1288\" class=\"colab-df-container\">\n",
              "    <div>\n",
              "<style scoped>\n",
              "    .dataframe tbody tr th:only-of-type {\n",
              "        vertical-align: middle;\n",
              "    }\n",
              "\n",
              "    .dataframe tbody tr th {\n",
              "        vertical-align: top;\n",
              "    }\n",
              "\n",
              "    .dataframe thead th {\n",
              "        text-align: right;\n",
              "    }\n",
              "</style>\n",
              "<table border=\"1\" class=\"dataframe\">\n",
              "  <thead>\n",
              "    <tr style=\"text-align: right;\">\n",
              "      <th></th>\n",
              "      <th>Height</th>\n",
              "      <th>Weight</th>\n",
              "    </tr>\n",
              "  </thead>\n",
              "  <tbody>\n",
              "    <tr>\n",
              "      <th>count</th>\n",
              "      <td>10000.000000</td>\n",
              "      <td>10000.000000</td>\n",
              "    </tr>\n",
              "    <tr>\n",
              "      <th>mean</th>\n",
              "      <td>66.367560</td>\n",
              "      <td>161.440357</td>\n",
              "    </tr>\n",
              "    <tr>\n",
              "      <th>std</th>\n",
              "      <td>3.847528</td>\n",
              "      <td>32.108439</td>\n",
              "    </tr>\n",
              "    <tr>\n",
              "      <th>min</th>\n",
              "      <td>54.263133</td>\n",
              "      <td>64.700127</td>\n",
              "    </tr>\n",
              "    <tr>\n",
              "      <th>25%</th>\n",
              "      <td>63.505620</td>\n",
              "      <td>135.818051</td>\n",
              "    </tr>\n",
              "    <tr>\n",
              "      <th>50%</th>\n",
              "      <td>66.318070</td>\n",
              "      <td>161.212928</td>\n",
              "    </tr>\n",
              "    <tr>\n",
              "      <th>75%</th>\n",
              "      <td>69.174262</td>\n",
              "      <td>187.169525</td>\n",
              "    </tr>\n",
              "    <tr>\n",
              "      <th>max</th>\n",
              "      <td>78.998742</td>\n",
              "      <td>269.989699</td>\n",
              "    </tr>\n",
              "  </tbody>\n",
              "</table>\n",
              "</div>\n",
              "    <div class=\"colab-df-buttons\">\n",
              "\n",
              "  <div class=\"colab-df-container\">\n",
              "    <button class=\"colab-df-convert\" onclick=\"convertToInteractive('df-eb95e306-7394-4b46-ab2b-01808eba1288')\"\n",
              "            title=\"Convert this dataframe to an interactive table.\"\n",
              "            style=\"display:none;\">\n",
              "\n",
              "  <svg xmlns=\"http://www.w3.org/2000/svg\" height=\"24px\" viewBox=\"0 -960 960 960\">\n",
              "    <path d=\"M120-120v-720h720v720H120Zm60-500h600v-160H180v160Zm220 220h160v-160H400v160Zm0 220h160v-160H400v160ZM180-400h160v-160H180v160Zm440 0h160v-160H620v160ZM180-180h160v-160H180v160Zm440 0h160v-160H620v160Z\"/>\n",
              "  </svg>\n",
              "    </button>\n",
              "\n",
              "  <style>\n",
              "    .colab-df-container {\n",
              "      display:flex;\n",
              "      gap: 12px;\n",
              "    }\n",
              "\n",
              "    .colab-df-convert {\n",
              "      background-color: #E8F0FE;\n",
              "      border: none;\n",
              "      border-radius: 50%;\n",
              "      cursor: pointer;\n",
              "      display: none;\n",
              "      fill: #1967D2;\n",
              "      height: 32px;\n",
              "      padding: 0 0 0 0;\n",
              "      width: 32px;\n",
              "    }\n",
              "\n",
              "    .colab-df-convert:hover {\n",
              "      background-color: #E2EBFA;\n",
              "      box-shadow: 0px 1px 2px rgba(60, 64, 67, 0.3), 0px 1px 3px 1px rgba(60, 64, 67, 0.15);\n",
              "      fill: #174EA6;\n",
              "    }\n",
              "\n",
              "    .colab-df-buttons div {\n",
              "      margin-bottom: 4px;\n",
              "    }\n",
              "\n",
              "    [theme=dark] .colab-df-convert {\n",
              "      background-color: #3B4455;\n",
              "      fill: #D2E3FC;\n",
              "    }\n",
              "\n",
              "    [theme=dark] .colab-df-convert:hover {\n",
              "      background-color: #434B5C;\n",
              "      box-shadow: 0px 1px 3px 1px rgba(0, 0, 0, 0.15);\n",
              "      filter: drop-shadow(0px 1px 2px rgba(0, 0, 0, 0.3));\n",
              "      fill: #FFFFFF;\n",
              "    }\n",
              "  </style>\n",
              "\n",
              "    <script>\n",
              "      const buttonEl =\n",
              "        document.querySelector('#df-eb95e306-7394-4b46-ab2b-01808eba1288 button.colab-df-convert');\n",
              "      buttonEl.style.display =\n",
              "        google.colab.kernel.accessAllowed ? 'block' : 'none';\n",
              "\n",
              "      async function convertToInteractive(key) {\n",
              "        const element = document.querySelector('#df-eb95e306-7394-4b46-ab2b-01808eba1288');\n",
              "        const dataTable =\n",
              "          await google.colab.kernel.invokeFunction('convertToInteractive',\n",
              "                                                    [key], {});\n",
              "        if (!dataTable) return;\n",
              "\n",
              "        const docLinkHtml = 'Like what you see? Visit the ' +\n",
              "          '<a target=\"_blank\" href=https://colab.research.google.com/notebooks/data_table.ipynb>data table notebook</a>'\n",
              "          + ' to learn more about interactive tables.';\n",
              "        element.innerHTML = '';\n",
              "        dataTable['output_type'] = 'display_data';\n",
              "        await google.colab.output.renderOutput(dataTable, element);\n",
              "        const docLink = document.createElement('div');\n",
              "        docLink.innerHTML = docLinkHtml;\n",
              "        element.appendChild(docLink);\n",
              "      }\n",
              "    </script>\n",
              "  </div>\n",
              "\n",
              "\n",
              "    <div id=\"df-d199b955-41d6-4c0a-a07d-fa42daad4357\">\n",
              "      <button class=\"colab-df-quickchart\" onclick=\"quickchart('df-d199b955-41d6-4c0a-a07d-fa42daad4357')\"\n",
              "                title=\"Suggest charts\"\n",
              "                style=\"display:none;\">\n",
              "\n",
              "<svg xmlns=\"http://www.w3.org/2000/svg\" height=\"24px\"viewBox=\"0 0 24 24\"\n",
              "     width=\"24px\">\n",
              "    <g>\n",
              "        <path d=\"M19 3H5c-1.1 0-2 .9-2 2v14c0 1.1.9 2 2 2h14c1.1 0 2-.9 2-2V5c0-1.1-.9-2-2-2zM9 17H7v-7h2v7zm4 0h-2V7h2v10zm4 0h-2v-4h2v4z\"/>\n",
              "    </g>\n",
              "</svg>\n",
              "      </button>\n",
              "\n",
              "<style>\n",
              "  .colab-df-quickchart {\n",
              "      --bg-color: #E8F0FE;\n",
              "      --fill-color: #1967D2;\n",
              "      --hover-bg-color: #E2EBFA;\n",
              "      --hover-fill-color: #174EA6;\n",
              "      --disabled-fill-color: #AAA;\n",
              "      --disabled-bg-color: #DDD;\n",
              "  }\n",
              "\n",
              "  [theme=dark] .colab-df-quickchart {\n",
              "      --bg-color: #3B4455;\n",
              "      --fill-color: #D2E3FC;\n",
              "      --hover-bg-color: #434B5C;\n",
              "      --hover-fill-color: #FFFFFF;\n",
              "      --disabled-bg-color: #3B4455;\n",
              "      --disabled-fill-color: #666;\n",
              "  }\n",
              "\n",
              "  .colab-df-quickchart {\n",
              "    background-color: var(--bg-color);\n",
              "    border: none;\n",
              "    border-radius: 50%;\n",
              "    cursor: pointer;\n",
              "    display: none;\n",
              "    fill: var(--fill-color);\n",
              "    height: 32px;\n",
              "    padding: 0;\n",
              "    width: 32px;\n",
              "  }\n",
              "\n",
              "  .colab-df-quickchart:hover {\n",
              "    background-color: var(--hover-bg-color);\n",
              "    box-shadow: 0 1px 2px rgba(60, 64, 67, 0.3), 0 1px 3px 1px rgba(60, 64, 67, 0.15);\n",
              "    fill: var(--button-hover-fill-color);\n",
              "  }\n",
              "\n",
              "  .colab-df-quickchart-complete:disabled,\n",
              "  .colab-df-quickchart-complete:disabled:hover {\n",
              "    background-color: var(--disabled-bg-color);\n",
              "    fill: var(--disabled-fill-color);\n",
              "    box-shadow: none;\n",
              "  }\n",
              "\n",
              "  .colab-df-spinner {\n",
              "    border: 2px solid var(--fill-color);\n",
              "    border-color: transparent;\n",
              "    border-bottom-color: var(--fill-color);\n",
              "    animation:\n",
              "      spin 1s steps(1) infinite;\n",
              "  }\n",
              "\n",
              "  @keyframes spin {\n",
              "    0% {\n",
              "      border-color: transparent;\n",
              "      border-bottom-color: var(--fill-color);\n",
              "      border-left-color: var(--fill-color);\n",
              "    }\n",
              "    20% {\n",
              "      border-color: transparent;\n",
              "      border-left-color: var(--fill-color);\n",
              "      border-top-color: var(--fill-color);\n",
              "    }\n",
              "    30% {\n",
              "      border-color: transparent;\n",
              "      border-left-color: var(--fill-color);\n",
              "      border-top-color: var(--fill-color);\n",
              "      border-right-color: var(--fill-color);\n",
              "    }\n",
              "    40% {\n",
              "      border-color: transparent;\n",
              "      border-right-color: var(--fill-color);\n",
              "      border-top-color: var(--fill-color);\n",
              "    }\n",
              "    60% {\n",
              "      border-color: transparent;\n",
              "      border-right-color: var(--fill-color);\n",
              "    }\n",
              "    80% {\n",
              "      border-color: transparent;\n",
              "      border-right-color: var(--fill-color);\n",
              "      border-bottom-color: var(--fill-color);\n",
              "    }\n",
              "    90% {\n",
              "      border-color: transparent;\n",
              "      border-bottom-color: var(--fill-color);\n",
              "    }\n",
              "  }\n",
              "</style>\n",
              "\n",
              "      <script>\n",
              "        async function quickchart(key) {\n",
              "          const quickchartButtonEl =\n",
              "            document.querySelector('#' + key + ' button');\n",
              "          quickchartButtonEl.disabled = true;  // To prevent multiple clicks.\n",
              "          quickchartButtonEl.classList.add('colab-df-spinner');\n",
              "          try {\n",
              "            const charts = await google.colab.kernel.invokeFunction(\n",
              "                'suggestCharts', [key], {});\n",
              "          } catch (error) {\n",
              "            console.error('Error during call to suggestCharts:', error);\n",
              "          }\n",
              "          quickchartButtonEl.classList.remove('colab-df-spinner');\n",
              "          quickchartButtonEl.classList.add('colab-df-quickchart-complete');\n",
              "        }\n",
              "        (() => {\n",
              "          let quickchartButtonEl =\n",
              "            document.querySelector('#df-d199b955-41d6-4c0a-a07d-fa42daad4357 button');\n",
              "          quickchartButtonEl.style.display =\n",
              "            google.colab.kernel.accessAllowed ? 'block' : 'none';\n",
              "        })();\n",
              "      </script>\n",
              "    </div>\n",
              "\n",
              "    </div>\n",
              "  </div>\n"
            ],
            "application/vnd.google.colaboratory.intrinsic+json": {
              "type": "dataframe",
              "summary": "{\n  \"name\": \"df\",\n  \"rows\": 8,\n  \"fields\": [\n    {\n      \"column\": \"Height\",\n      \"properties\": {\n        \"dtype\": \"number\",\n        \"std\": 3515.2806294661905,\n        \"min\": 3.8475281207732324,\n        \"max\": 10000.0,\n        \"num_unique_values\": 8,\n        \"samples\": [\n          66.36755975482124,\n          66.31807008178464,\n          10000.0\n        ],\n        \"semantic_type\": \"\",\n        \"description\": \"\"\n      }\n    },\n    {\n      \"column\": \"Weight\",\n      \"properties\": {\n        \"dtype\": \"number\",\n        \"std\": 3485.1607081511456,\n        \"min\": 32.108439006519546,\n        \"max\": 10000.0,\n        \"num_unique_values\": 8,\n        \"samples\": [\n          161.44035683283076,\n          161.21292769948298,\n          10000.0\n        ],\n        \"semantic_type\": \"\",\n        \"description\": \"\"\n      }\n    }\n  ]\n}"
            }
          },
          "metadata": {},
          "execution_count": 6
        }
      ]
    },
    {
      "cell_type": "code",
      "source": [
        "plt.hist(df['Height'], bins=10, edgecolor='black')\n",
        "plt.xlabel(\"Height\")\n",
        "plt.ylabel(\"Frequency\")\n",
        "plt.title(\"Histogram of Height\")\n",
        "plt.show()\n"
      ],
      "metadata": {
        "colab": {
          "base_uri": "https://localhost:8080/",
          "height": 472
        },
        "id": "k7UpxUSMt2SK",
        "outputId": "14b3e04d-b253-4215-ae0d-7e9d3e25f36c"
      },
      "execution_count": 16,
      "outputs": [
        {
          "output_type": "display_data",
          "data": {
            "text/plain": [
              "<Figure size 640x480 with 1 Axes>"
            ],
            "image/png": "[encoded data removed]"
          },
          "metadata": {}
        }
      ]
    },
    {
      "cell_type": "code",
      "source": [
        "plt.hist(df['Weight'] ,bins = 10 , edgecolor = 'black')\n",
        "plt.xlabel('Weight')\n",
        "plt.ylabel('Frequency')\n",
        "plt.show()"
      ],
      "metadata": {
        "colab": {
          "base_uri": "https://localhost:8080/",
          "height": 449
        },
        "id": "skeDAko8u8uR",
        "outputId": "9c4f7809-64f7-4b8c-ef72-a06b234721eb"
      },
      "execution_count": 19,
      "outputs": [
        {
          "output_type": "display_data",
          "data": {
            "text/plain": [
              "<Figure size 640x480 with 1 Axes>"
            ],
            "image/png": "[encoded data removed]"
          },
          "metadata": {}
        }
      ]
    },
    {
      "cell_type": "markdown",
      "source": [
        "# Both follows approximately a gaussian distribution"
      ],
      "metadata": {
        "id": "Cnxsw095vsK3"
      }
    },
    {
      "cell_type": "code",
      "source": [
        "population = df['Height']\n",
        "sample_sizes = [5,10,50,75,100]\n",
        "num_samples = 100\n",
        "\n",
        "results = {}\n",
        "\n",
        "for n in sample_sizes:\n",
        "    sample_means = []\n",
        "    for _ in range(num_samples):\n",
        "        sample = population.sample(n, replace=True)\n",
        "        sample_means.append(sample.mean())\n",
        "    results[n] = sample_means\n",
        "\n",
        "means_df = pd.DataFrame(results)\n",
        "print(means_df.describe())"
      ],
      "metadata": {
        "colab": {
          "base_uri": "https://localhost:8080/"
        },
        "id": "biyXD7Hpv2RR",
        "outputId": "34c435e4-822a-4a0a-f004-15f2bce921ba"
      },
      "execution_count": 23,
      "outputs": [
        {
          "output_type": "stream",
          "name": "stdout",
          "text": [
            "              5           10          50          75          100\n",
            "count  100.000000  100.000000  100.000000  100.000000  100.000000\n",
            "mean    66.538491   66.397217   66.370708   66.329535   66.355672\n",
            "std      1.639141    1.214902    0.530263    0.406024    0.385256\n",
            "min     62.877883   62.814090   65.185605   65.307608   65.321527\n",
            "25%     65.336430   65.788731   66.019613   66.019786   66.108064\n",
            "50%     66.628929   66.355635   66.325159   66.296763   66.364872\n",
            "75%     67.773481   67.158973   66.720482   66.580084   66.569740\n",
            "max     69.654747   70.449907   67.743792   67.326370   67.142210\n"
          ]
        }
      ]
    },
    {
      "cell_type": "markdown",
      "source": [
        "# clearly the spread ( std var ) decrease as we increase sample sizes ."
      ],
      "metadata": {
        "id": "pC_OJvULzVJe"
      }
    },
    {
      "cell_type": "code",
      "source": [
        "population = df['Height']\n",
        "pop_mean = population.mean()\n",
        "pop_std = population.std()\n",
        "\n",
        "print(\"Population mean:\", pop_mean)\n",
        "print(\"Population std:\", pop_std)\n"
      ],
      "metadata": {
        "colab": {
          "base_uri": "https://localhost:8080/"
        },
        "id": "gtVLc-6Azx86",
        "outputId": "081cfded-c5e3-4aba-ecda-3e8fdb0424b9"
      },
      "execution_count": 25,
      "outputs": [
        {
          "output_type": "stream",
          "name": "stdout",
          "text": [
            "Population mean: 66.36755975482124\n",
            "Population std: 3.8475281207732324\n"
          ]
        }
      ]
    },
    {
      "cell_type": "code",
      "source": [
        "import matplotlib.pyplot as plt\n",
        "\n",
        "fig, axes = plt.subplots(1, len(means_df.columns), figsize=(20, 4))\n",
        "\n",
        "for i, n in enumerate(means_df.columns):\n",
        "    axes[i].hist(means_df[n], bins=10, edgecolor='black')\n",
        "    axes[i].axvline(population.mean(), color='red', linestyle='dashed', linewidth=2, label='Pop mean')\n",
        "    axes[i].set_title(f\"n={n}\")\n",
        "    axes[i].legend()\n",
        "\n",
        "plt.suptitle(\"Sampling Distributions of Sample Means\")\n",
        "plt.show()\n"
      ],
      "metadata": {
        "colab": {
          "base_uri": "https://localhost:8080/",
          "height": 269
        },
        "id": "c5O4IdWtz15B",
        "outputId": "204b9b20-0ae1-4203-f181-011e991d1a29"
      },
      "execution_count": 26,
      "outputs": [
        {
          "output_type": "display_data",
          "data": {
            "text/plain": [
              "<Figure size 2000x400 with 5 Axes>"
            ],
            "image/png": "[encoded data removed]"
          },
          "metadata": {}
        }
      ]
    },
    {
      "cell_type": "code",
      "source": [
        "pop_mean = population.mean()\n",
        "pop_std = population.std()\n",
        "\n",
        "for n in means_df.columns:\n",
        "    print(f\"\\nSample size n={n}\")\n",
        "    print(f\"Mean of sample means      : {means_df[n].mean():.2f}\")\n",
        "    print(f\"Std of sample means       : {means_df[n].std():.2f}\")\n",
        "    print(f\"Population mean           : {pop_mean:.2f}\")\n",
        "    print(f\"Population std / sqrt(n)  : {pop_std/np.sqrt(n):.2f}\")\n"
      ],
      "metadata": {
        "colab": {
          "base_uri": "https://localhost:8080/"
        },
        "id": "7hAzc6e50JLM",
        "outputId": "f13e0ba4-d6cb-444b-8832-054fe60c06f5"
      },
      "execution_count": 27,
      "outputs": [
        {
          "output_type": "stream",
          "name": "stdout",
          "text": [
            "\n",
            "Sample size n=5\n",
            "Mean of sample means      : 66.54\n",
            "Std of sample means       : 1.64\n",
            "Population mean           : 66.37\n",
            "Population std / sqrt(n)  : 1.72\n",
            "\n",
            "Sample size n=10\n",
            "Mean of sample means      : 66.40\n",
            "Std of sample means       : 1.21\n",
            "Population mean           : 66.37\n",
            "Population std / sqrt(n)  : 1.22\n",
            "\n",
            "Sample size n=50\n",
            "Mean of sample means      : 66.37\n",
            "Std of sample means       : 0.53\n",
            "Population mean           : 66.37\n",
            "Population std / sqrt(n)  : 0.54\n",
            "\n",
            "Sample size n=75\n",
            "Mean of sample means      : 66.33\n",
            "Std of sample means       : 0.41\n",
            "Population mean           : 66.37\n",
            "Population std / sqrt(n)  : 0.44\n",
            "\n",
            "Sample size n=100\n",
            "Mean of sample means      : 66.36\n",
            "Std of sample means       : 0.39\n",
            "Population mean           : 66.37\n",
            "Population std / sqrt(n)  : 0.38\n"
          ]
        }
      ]
    },
    {
      "cell_type": "code",
      "source": [
        "'''#Interpretation :\n",
        "\n",
        "1. Shape of the sampling distribution (Central Limit Theorem):\n",
        "\n",
        "\n",
        "When the sample size n is small (e.g., n = 5), the histogram of the 100 sample means is more spread out and may look irregular or skewed.\n",
        "\n",
        "\n",
        "As n increases (10 → 30 → 50 → 100), the histogram becomes more symmetric and bell shaped, approaching a Normal distribution, even if the original population is not perfectly normal.\n",
        "\n",
        "\n",
        "\n",
        "\n",
        "2.Sample mean vs Population mean\n",
        "\n",
        "\n",
        "The mean of the sample means (from each n) is very close to the population mean.\n",
        "\n",
        "\n",
        "This shows that the sample mean is an unbiased estimator of the population mean.\n",
        "\n",
        "\n",
        "Even with small n, the average of many sample means is roughly equal to the population mean, but variability is larger.\n",
        "\n",
        "\n",
        "3.The spread (standard deviation) of the sample means decreases as n increases.\n",
        "\n",
        "This matches the formula for standard error: (sigma)/root(n)\n",
        "\n",
        "Observations from your results:\n",
        "\n",
        "Small n → larger spread, more variability in sample means.\n",
        "Large n → smaller spread, sample means cluster tightly around the population mean.\n",
        "This demonstrates that larger samples give more precise estimates of the population mean.\n",
        "\n",
        "\n",
        "4.  CLT in action: The distribution of sample means becomes normal as n grows.\n",
        "\n",
        "\n",
        "Accuracy improves with n: Sample mean converges to population mean.\n",
        "\n",
        "\n",
        "Precision improves with n: Standard deviation of sample means decreases as sample size increases."
      ],
      "metadata": {
        "id": "T2z-RK6i0ffj"
      },
      "execution_count": null,
      "outputs": []
    }
  ]
}