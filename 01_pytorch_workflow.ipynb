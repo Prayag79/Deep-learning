{
  "nbformat": 4,
  "nbformat_minor": 0,
  "metadata": {
    "colab": {
      "provenance": [],
      "authorship_tag": "ABX9TyP3/ML7cuJohvjEQmZQYHJW",
      "include_colab_link": true
    },
    "kernelspec": {
      "name": "python3",
      "display_name": "Python 3"
    },
    "language_info": {
      "name": "python"
    }
  },
  "cells": [
    {
      "cell_type": "markdown",
      "metadata": {
        "id": "view-in-github",
        "colab_type": "text"
      },
      "source": [
        "<a href=\"https://colab.research.google.com/github/Prayag79/Deep-learning/blob/main/01_pytorch_workflow.ipynb\" target=\"_parent\"><img src=\"https://colab.research.google.com/assets/colab-badge.svg\" alt=\"Open In Colab\"/></a>"
      ]
    },
    {
      "cell_type": "code",
      "execution_count": 356,
      "metadata": {
        "id": "7aKlPIiibc5I"
      },
      "outputs": [],
      "source": [
        "import torch\n",
        "from torch import nn ## nn contains all of Pytorchs building blocks for neural network\n",
        "import matplotlib.pyplot as plt"
      ]
    },
    {
      "cell_type": "code",
      "source": [
        "# create known parameters\n",
        "weight = 0.7\n",
        "bias = 0.3\n",
        "\n",
        "\n",
        "# create data\n",
        "start = 0\n",
        "end = 1\n",
        "step = 0.02\n",
        "\n",
        "X = torch.arange(start,end,step).unsqueeze(dim=1)\n",
        "y = weight * X + bias\n",
        "\n",
        "X[:10] , y[:10] , len(X) , len(y)\n"
      ],
      "metadata": {
        "colab": {
          "base_uri": "https://localhost:8080/"
        },
        "id": "MbFN_F5sn1lJ",
        "outputId": "b0ec7440-1475-4583-ac64-5a804459842c"
      },
      "execution_count": 357,
      "outputs": [
        {
          "output_type": "execute_result",
          "data": {
            "text/plain": [
              "(tensor([[0.0000],\n",
              "         [0.0200],\n",
              "         [0.0400],\n",
              "         [0.0600],\n",
              "         [0.0800],\n",
              "         [0.1000],\n",
              "         [0.1200],\n",
              "         [0.1400],\n",
              "         [0.1600],\n",
              "         [0.1800]]),\n",
              " tensor([[0.3000],\n",
              "         [0.3140],\n",
              "         [0.3280],\n",
              "         [0.3420],\n",
              "         [0.3560],\n",
              "         [0.3700],\n",
              "         [0.3840],\n",
              "         [0.3980],\n",
              "         [0.4120],\n",
              "         [0.4260]]),\n",
              " 50,\n",
              " 50)"
            ]
          },
          "metadata": {},
          "execution_count": 357
        }
      ]
    },
    {
      "cell_type": "code",
      "source": [
        "#Test train split\n",
        "train_split = int(0.8 * len(X))\n",
        "X_train , y_train = X[:train_split] , y[:train_split]\n",
        "X_test , y_test = X[train_split:] , y[train_split:]"
      ],
      "metadata": {
        "id": "bFvabFHysZEN"
      },
      "execution_count": 358,
      "outputs": []
    },
    {
      "cell_type": "code",
      "source": [
        "def plot_predictions(train_data = X_train,\n",
        "                     train_labels = y_train,\n",
        "                     test_data = X_test,\n",
        "                     test_labels = y_test,\n",
        "                     predictions = None):\n",
        "  plt.figure(figsize=(10,7))\n",
        "  plt.scatter(train_data,train_labels,c=\"b\",s=4,label=\"Training Data\")\n",
        "\n",
        "  #plot test data\n",
        "  plt.scatter(test_data, test_labels ,c = 'r' , s = 4 , label = 'Testing data')\n",
        "\n",
        "  #are there any predictions ?\n",
        "  if predictions is not None:\n",
        "    plt.scatter(test_data,predictions,c='g',s=4,label='Predictions')\n",
        "\n",
        "  plt.legend(prop={'size':14})\n"
      ],
      "metadata": {
        "id": "HbtqMHJSt28O"
      },
      "execution_count": 359,
      "outputs": []
    },
    {
      "cell_type": "code",
      "source": [
        "plot_predictions()"
      ],
      "metadata": {
        "colab": {
          "base_uri": "https://localhost:8080/",
          "height": 599
        },
        "id": "CekjnsnAwazN",
        "outputId": "54754f7a-344e-4712-e052-31beb238a312"
      },
      "execution_count": 360,
      "outputs": [
        {
          "output_type": "display_data",
          "data": {
            "text/plain": [
              "<Figure size 1000x700 with 1 Axes>"
            ],
            "image/png": "[encoded data removed]"
          },
          "metadata": {}
        }
      ]
    },
    {
      "cell_type": "code",
      "source": [
        "class LinearRegressionModelV1(nn.Module):\n",
        "  def __init__(self):\n",
        "    super().__init__()\n",
        "    self.weights = nn.Parameter(torch.randn(1,\n",
        "                                            requires_grad=True,\n",
        "                                            dtype = torch.float))\n",
        "    self.bias = nn.Parameter(torch.randn(1,\n",
        "                                         requires_grad=True,\n",
        "                                         dtype = torch.float))\n",
        "\n",
        "  def forward(self,x:torch.Tensor) -> torch.Tensor: #Performs computation at step\n",
        "    return self.weights * x + self.bias\n"
      ],
      "metadata": {
        "id": "fDp3FBS_wk9e"
      },
      "execution_count": 361,
      "outputs": []
    },
    {
      "cell_type": "code",
      "source": [
        "torch.manual_seed(42)\n",
        "model_0 = LinearRegressionModelV1()\n",
        "list(model_0.parameters())#as a list\n"
      ],
      "metadata": {
        "colab": {
          "base_uri": "https://localhost:8080/"
        },
        "id": "MHST-XH3WNiJ",
        "outputId": "d9e8cb27-8e27-4956-b611-b1f24ac80480"
      },
      "execution_count": 362,
      "outputs": [
        {
          "output_type": "execute_result",
          "data": {
            "text/plain": [
              "[Parameter containing:\n",
              " tensor([0.3367], requires_grad=True),\n",
              " Parameter containing:\n",
              " tensor([0.1288], requires_grad=True)]"
            ]
          },
          "metadata": {},
          "execution_count": 362
        }
      ]
    },
    {
      "cell_type": "code",
      "source": [
        "model_0.state_dict()#as a dict"
      ],
      "metadata": {
        "colab": {
          "base_uri": "https://localhost:8080/"
        },
        "id": "c92bbXqMKwka",
        "outputId": "3c9ebca0-2986-4b2f-dffc-16930eb4d6eb"
      },
      "execution_count": 363,
      "outputs": [
        {
          "output_type": "execute_result",
          "data": {
            "text/plain": [
              "OrderedDict([('weights', tensor([0.3367])), ('bias', tensor([0.1288]))])"
            ]
          },
          "metadata": {},
          "execution_count": 363
        }
      ]
    },
    {
      "cell_type": "code",
      "source": [
        "X_test , y_test"
      ],
      "metadata": {
        "colab": {
          "base_uri": "https://localhost:8080/"
        },
        "id": "gANGbEYBL18P",
        "outputId": "bc6d5bfb-e24c-4cc3-aca1-89fd251ae66c"
      },
      "execution_count": 364,
      "outputs": [
        {
          "output_type": "execute_result",
          "data": {
            "text/plain": [
              "(tensor([[0.8000],\n",
              "         [0.8200],\n",
              "         [0.8400],\n",
              "         [0.8600],\n",
              "         [0.8800],\n",
              "         [0.9000],\n",
              "         [0.9200],\n",
              "         [0.9400],\n",
              "         [0.9600],\n",
              "         [0.9800]]),\n",
              " tensor([[0.8600],\n",
              "         [0.8740],\n",
              "         [0.8880],\n",
              "         [0.9020],\n",
              "         [0.9160],\n",
              "         [0.9300],\n",
              "         [0.9440],\n",
              "         [0.9580],\n",
              "         [0.9720],\n",
              "         [0.9860]]))"
            ]
          },
          "metadata": {},
          "execution_count": 364
        }
      ]
    },
    {
      "cell_type": "code",
      "source": [
        "#predictions\n",
        "with torch.inference_mode():#turns off grad or torch.no_grad()\n",
        "  y_preds = model_0(X_test)\n",
        "y_preds\n"
      ],
      "metadata": {
        "colab": {
          "base_uri": "https://localhost:8080/"
        },
        "id": "o_GfZk5HK6UG",
        "outputId": "167495d9-ef1c-462d-e821-a4eaf936fa8f"
      },
      "execution_count": 365,
      "outputs": [
        {
          "output_type": "execute_result",
          "data": {
            "text/plain": [
              "tensor([[0.3982],\n",
              "        [0.4049],\n",
              "        [0.4116],\n",
              "        [0.4184],\n",
              "        [0.4251],\n",
              "        [0.4318],\n",
              "        [0.4386],\n",
              "        [0.4453],\n",
              "        [0.4520],\n",
              "        [0.4588]])"
            ]
          },
          "metadata": {},
          "execution_count": 365
        }
      ]
    },
    {
      "cell_type": "code",
      "source": [
        "plot_predictions(predictions=y_preds)"
      ],
      "metadata": {
        "colab": {
          "base_uri": "https://localhost:8080/",
          "height": 599
        },
        "id": "fepO8137MhjW",
        "outputId": "d05a794d-3473-46fc-f7ed-c45d00ac75fb"
      },
      "execution_count": 366,
      "outputs": [
        {
          "output_type": "display_data",
          "data": {
            "text/plain": [
              "<Figure size 1000x700 with 1 Axes>"
            ],
            "image/png": "[encoded data removed]"
          },
          "metadata": {}
        }
      ]
    },
    {
      "cell_type": "code",
      "source": [
        "#Loss Function ---> to measure how wrong your model performs.\n",
        "#optimiser : takes into account of our loss function and adjust the models parameters(here bias and weight)\n",
        "#we need a training loop and testing loop in pyTorch"
      ],
      "metadata": {
        "id": "FoeIKd43NgOO"
      },
      "execution_count": 367,
      "outputs": []
    },
    {
      "cell_type": "code",
      "source": [
        "loss_fn = nn.L1Loss()\n",
        "loss_fn"
      ],
      "metadata": {
        "colab": {
          "base_uri": "https://localhost:8080/"
        },
        "id": "5YCJRWNsnw3y",
        "outputId": "241d483c-d811-4bc2-f99c-a2509db0f74a"
      },
      "execution_count": 368,
      "outputs": [
        {
          "output_type": "execute_result",
          "data": {
            "text/plain": [
              "L1Loss()"
            ]
          },
          "metadata": {},
          "execution_count": 368
        }
      ]
    },
    {
      "cell_type": "code",
      "source": [
        "optimizer = torch.optim.SGD(params = model_0.parameters(),\n",
        "                            lr = 0.01)                          #learning rate hyperparameter (lr x= change)\n",
        "optimizer"
      ],
      "metadata": {
        "colab": {
          "base_uri": "https://localhost:8080/"
        },
        "id": "skXW7T1wpIsD",
        "outputId": "66881d79-4c80-4343-d60f-98356f2e1a1c"
      },
      "execution_count": 369,
      "outputs": [
        {
          "output_type": "execute_result",
          "data": {
            "text/plain": [
              "SGD (\n",
              "Parameter Group 0\n",
              "    dampening: 0\n",
              "    differentiable: False\n",
              "    foreach: None\n",
              "    fused: None\n",
              "    lr: 0.01\n",
              "    maximize: False\n",
              "    momentum: 0\n",
              "    nesterov: False\n",
              "    weight_decay: 0\n",
              ")"
            ]
          },
          "metadata": {},
          "execution_count": 369
        }
      ]
    },
    {
      "cell_type": "code",
      "source": [
        "#loop\n",
        "#forward pass\n",
        "#calculate loss\n",
        "#optimize\n",
        "#loss backward\n",
        "#optimiser step"
      ],
      "metadata": {
        "id": "pOy3kBMzqhBc"
      },
      "execution_count": 370,
      "outputs": []
    },
    {
      "cell_type": "code",
      "source": [
        "torch.manual_seed(7)\n",
        "train_loss_values = []\n",
        "test_loss_values = []\n",
        "train_loss = []\n",
        "test_loss = []\n",
        "epochs = 1000#epochs is a loop through the data\n",
        "for epoch in range(epochs):\n",
        "  #set the model to training mode\n",
        "  model_0.train()\n",
        "\n",
        "\n",
        "  y_pred = model_0(X_train)#Forward pass\n",
        "  loss = loss_fn(y_pred,y_train)#calc loss\n",
        "\n",
        "  #print(f'loss : {loss}')\n",
        "\n",
        "\n",
        "\n",
        "  optimizer.zero_grad()\n",
        "\n",
        "  loss.backward()\n",
        "  optimizer.step()# by defauld optimizer changes will get accumulated throught the loop .... we thus have to zero them (done above) for the next iteration\n",
        "\n",
        "  model_0.eval()#testing\n",
        "  with torch.inference_mode():\n",
        "    test_pred = model_0(X_test)\n",
        "    test_loss = loss_fn(test_pred,y_test)\n",
        "\n",
        "\n",
        "  if epoch % 100== 0 :\n",
        "    train_loss_values.append(loss.detach().numpy())\n",
        "    test_loss_values.append(test_loss.detach().numpy())\n",
        "    print(f'Epoch : {epoch} | Loss : {loss} | Test Loss : {test_loss}')\n",
        "    print(model_0.state_dict())\n",
        "\n",
        "\n",
        "\n"
      ],
      "metadata": {
        "colab": {
          "base_uri": "https://localhost:8080/"
        },
        "id": "cgwD0JId1cBj",
        "outputId": "1f8f0a05-2ba0-41d8-967f-568fc0328f63"
      },
      "execution_count": 374,
      "outputs": [
        {
          "output_type": "stream",
          "name": "stdout",
          "text": [
            "Epoch : 0 | Loss : 0.3013603389263153 | Test Loss : 0.4675942063331604\n",
            "OrderedDict({'weights': tensor([0.3445]), 'bias': tensor([0.1488])})\n",
            "Epoch : 100 | Loss : 0.024110013619065285 | Test Loss : 0.05536102131009102\n",
            "OrderedDict({'weights': tensor([0.5818]), 'bias': tensor([0.3498])})\n",
            "Epoch : 200 | Loss : 0.0025885067880153656 | Test Loss : 0.008447891101241112\n",
            "OrderedDict({'weights': tensor([0.6990]), 'bias': tensor([0.3093])})\n",
            "Epoch : 300 | Loss : 0.0025885067880153656 | Test Loss : 0.008447891101241112\n",
            "OrderedDict({'weights': tensor([0.6990]), 'bias': tensor([0.3093])})\n",
            "Epoch : 400 | Loss : 0.0025885067880153656 | Test Loss : 0.008447891101241112\n",
            "OrderedDict({'weights': tensor([0.6990]), 'bias': tensor([0.3093])})\n",
            "Epoch : 500 | Loss : 0.0025885067880153656 | Test Loss : 0.008447891101241112\n",
            "OrderedDict({'weights': tensor([0.6990]), 'bias': tensor([0.3093])})\n",
            "Epoch : 600 | Loss : 0.0025885067880153656 | Test Loss : 0.008447891101241112\n",
            "OrderedDict({'weights': tensor([0.6990]), 'bias': tensor([0.3093])})\n",
            "Epoch : 700 | Loss : 0.0025885067880153656 | Test Loss : 0.008447891101241112\n",
            "OrderedDict({'weights': tensor([0.6990]), 'bias': tensor([0.3093])})\n",
            "Epoch : 800 | Loss : 0.0025885067880153656 | Test Loss : 0.008447891101241112\n",
            "OrderedDict({'weights': tensor([0.6990]), 'bias': tensor([0.3093])})\n",
            "Epoch : 900 | Loss : 0.0025885067880153656 | Test Loss : 0.008447891101241112\n",
            "OrderedDict({'weights': tensor([0.6990]), 'bias': tensor([0.3093])})\n"
          ]
        }
      ]
    },
    {
      "cell_type": "code",
      "source": [
        "test_loss_values,train_loss_values"
      ],
      "metadata": {
        "colab": {
          "base_uri": "https://localhost:8080/"
        },
        "id": "NgAAWRLq8UrP",
        "outputId": "0a074ece-b664-43a0-f7ad-1959420d80f1"
      },
      "execution_count": 375,
      "outputs": [
        {
          "output_type": "execute_result",
          "data": {
            "text/plain": [
              "([array(0.4675942, dtype=float32),\n",
              "  array(0.05536102, dtype=float32),\n",
              "  array(0.00844789, dtype=float32),\n",
              "  array(0.00844789, dtype=float32),\n",
              "  array(0.00844789, dtype=float32),\n",
              "  array(0.00844789, dtype=float32),\n",
              "  array(0.00844789, dtype=float32),\n",
              "  array(0.00844789, dtype=float32),\n",
              "  array(0.00844789, dtype=float32),\n",
              "  array(0.00844789, dtype=float32)],\n",
              " [array(0.30136034, dtype=float32),\n",
              "  array(0.02411001, dtype=float32),\n",
              "  array(0.00258851, dtype=float32),\n",
              "  array(0.00258851, dtype=float32),\n",
              "  array(0.00258851, dtype=float32),\n",
              "  array(0.00258851, dtype=float32),\n",
              "  array(0.00258851, dtype=float32),\n",
              "  array(0.00258851, dtype=float32),\n",
              "  array(0.00258851, dtype=float32),\n",
              "  array(0.00258851, dtype=float32)])"
            ]
          },
          "metadata": {},
          "execution_count": 375
        }
      ]
    },
    {
      "cell_type": "code",
      "source": [
        "plt.plot(train_loss_values,label='Training loss')\n",
        "plt.plot(test_loss_values,label='Testing loss')\n",
        "plt.legend()"
      ],
      "metadata": {
        "colab": {
          "base_uri": "https://localhost:8080/",
          "height": 447
        },
        "id": "bRnFGw2IcfKk",
        "outputId": "28736fbc-69ff-481a-8195-f2a1a778c65e"
      },
      "execution_count": 376,
      "outputs": [
        {
          "output_type": "execute_result",
          "data": {
            "text/plain": [
              "<matplotlib.legend.Legend at 0x7f4167358fb0>"
            ]
          },
          "metadata": {},
          "execution_count": 376
        },
        {
          "output_type": "display_data",
          "data": {
            "text/plain": [
              "<Figure size 640x480 with 1 Axes>"
            ],
            "image/png": "[encoded data removed]"
          },
          "metadata": {}
        }
      ]
    },
    {
      "cell_type": "code",
      "source": [
        "with torch.inference_mode():\n",
        "  y_preds = model_0(X_test)\n",
        "plot_predictions(predictions=y_preds)"
      ],
      "metadata": {
        "colab": {
          "base_uri": "https://localhost:8080/",
          "height": 599
        },
        "id": "_lxmHJHgRzhc",
        "outputId": "ca2635b8-fcd5-4a39-a434-c8b9acb30e64"
      },
      "execution_count": 378,
      "outputs": [
        {
          "output_type": "display_data",
          "data": {
            "text/plain": [
              "<Figure size 1000x700 with 1 Axes>"
            ],
            "image/png": "[encoded data removed]"
          },
          "metadata": {}
        }
      ]
    }
  ]
}