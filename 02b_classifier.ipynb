{
  "nbformat": 4,
  "nbformat_minor": 0,
  "metadata": {
    "colab": {
      "provenance": [],
      "authorship_tag": "ABX9TyM3oeGU2PUnvzbUD86XJCUE",
      "include_colab_link": true
    },
    "kernelspec": {
      "name": "python3",
      "display_name": "Python 3"
    },
    "language_info": {
      "name": "python"
    }
  },
  "cells": [
    {
      "cell_type": "markdown",
      "metadata": {
        "id": "view-in-github",
        "colab_type": "text"
      },
      "source": [
        "<a href=\"https://colab.research.google.com/github/Prayag79/Deep-learning/blob/main/02b_classifier.ipynb\" target=\"_parent\"><img src=\"https://colab.research.google.com/assets/colab-badge.svg\" alt=\"Open In Colab\"/></a>"
      ]
    },
    {
      "cell_type": "code",
      "execution_count": 1,
      "metadata": {
        "id": "tkveHNqtC0la"
      },
      "outputs": [],
      "source": [
        "import torch\n",
        "import torchvision\n",
        "import torchvision.transforms as transforms\n"
      ]
    },
    {
      "cell_type": "code",
      "source": [
        "from google.colab import drive\n",
        "drive.mount('/content/drive')   # Mount Google Drive\n",
        "\n",
        "# Now set the root path inside your Drive\n",
        "data_root = \"/content/drive/MyDrive/ColabData\""
      ],
      "metadata": {
        "colab": {
          "base_uri": "https://localhost:8080/"
        },
        "id": "X2JmKqZXDADr",
        "outputId": "17cae99e-1aec-41ff-de38-809b22b9b998"
      },
      "execution_count": 2,
      "outputs": [
        {
          "output_type": "stream",
          "name": "stdout",
          "text": [
            "Mounted at /content/drive\n"
          ]
        }
      ]
    },
    {
      "cell_type": "code",
      "source": [
        "batch_size = 4\n",
        "\n",
        "#normalising\n",
        "transform  = transforms.Compose(\n",
        "    [transforms.ToTensor(),\n",
        "     transforms.Normalize((0.5, 0.5, 0.5), (0.5, 0.5, 0.5))] #mean , std = .5 , .5\n",
        ")\n",
        "\n",
        "trainset = torchvision.datasets.CIFAR10(\n",
        "    root = data_root,\n",
        "    train = True,\n",
        "    download = True,\n",
        "    transform = transform\n",
        ")\n",
        "\n",
        "testset = torchvision.datasets.CIFAR10(\n",
        "    root = data_root,\n",
        "    train = False ,\n",
        "    download = True,\n",
        "    transform = transform\n",
        ")\n",
        "classes = ('plane', 'car', 'bird', 'cat',\n",
        "           'deer', 'dog', 'frog', 'horse', 'ship', 'truck')"
      ],
      "metadata": {
        "id": "-dx4BJhMDawS"
      },
      "execution_count": 3,
      "outputs": []
    },
    {
      "cell_type": "code",
      "source": [
        "trainloader = torch.utils.data.DataLoader(trainset , batch_size = batch_size,shuffle = True,num_workers = 2)\n",
        "testloader = torch.utils.data.DataLoader(testset,batch_size = batch_size,num_workers = 2)\n",
        "\n",
        "classes = ('plane', 'car', 'bird', 'cat',\n",
        "           'deer', 'dog', 'frog', 'horse', 'ship', 'truck')"
      ],
      "metadata": {
        "id": "C6aDEEuzE6-m"
      },
      "execution_count": 22,
      "outputs": []
    },
    {
      "cell_type": "code",
      "source": [
        "import matplotlib.pyplot as plt\n",
        "import numpy as np\n",
        "\n",
        "def imshow(img):\n",
        "  img = img*0.5 + 0.5 #un-unoemalise\n",
        "  npimg = img.numpy()\n",
        "  plt.imshow(np.transpose(npimg,(1,2,0)))\n",
        "  plt.show()\n",
        "\n",
        "dataiter = iter(trainloader)\n",
        "images , labels = next(dataiter)\n",
        "\n",
        "imshow(torchvision.utils.make_grid(images))\n"
      ],
      "metadata": {
        "colab": {
          "base_uri": "https://localhost:8080/",
          "height": 193
        },
        "id": "Xv0sQN0qHCxe",
        "outputId": "64416b95-cf1e-41d9-8786-4da6cf5fe277"
      },
      "execution_count": 5,
      "outputs": [
        {
          "output_type": "display_data",
          "data": {
            "text/plain": [
              "<Figure size 640x480 with 1 Axes>"
            ],
            "image/png": "[encoded data removed]"
          },
          "metadata": {}
        }
      ]
    },
    {
      "cell_type": "code",
      "source": [
        "#convolution neural network\n",
        "import torch.nn as nn\n",
        "import torch.nn.functional as F"
      ],
      "metadata": {
        "id": "XgJ0SOBsHj7R"
      },
      "execution_count": 6,
      "outputs": []
    },
    {
      "cell_type": "code",
      "source": [
        "class Net(nn.Module):\n",
        "  def __init__(self) :\n",
        "    super().__init__()\n",
        "    self.conv1 = nn.Conv2d(3,6,5)#conv layer (input channel , output channel , kernel size)\n",
        "    self.pool = nn.MaxPool2d(2,2)#size 2x2 ; reduce size by half\n",
        "    self.conv2 = nn.Conv2d(6,16,5)#another conv layer ( takes 6 input from conv1 and gives 16 output)\n",
        "\n",
        "    #Fully connected dense layers\n",
        "    self.fc1 = nn.Linear(16 * 5 * 5, 120)#input_size = 400 (16*5*5)--> conv 2 gives 16 and feature map is 5x5 this 400 , output = 120 thus this condensed 400 to 120\n",
        "    self.fc2 = nn.Linear(120, 84)#---> 120 to 84\n",
        "    self.fc3 = nn.Linear(84, 10)#---> 84 to 10 ( 10 cuz we have 10 classes)\n",
        "\n",
        "  def forward(self,x):\n",
        "    #output shape : out = in - kernal + 1\n",
        "    x = self.pool(F.relu(self.conv1(x)))#relu replaces neg with 0 , adds non linearity keeping shape constant , pooling---> 2x2 window , reduces each dim by half ----> [bs,6,28,28]--->[bs,6,14,14]\n",
        "    x = self.pool(F.relu(self.conv2(x)))#[bs,6,14,14]---->out = 14 + 5 - 1 = 10 ----> [bs,6,10,10]--->relu==non linearity-----> pooling ===\n",
        "    x = torch.flatten(x,1) #flatten all dimensions except batch ---> shpae = [bs,400]\n",
        "    x = F.relu(self.fc1(x))#non linear\n",
        "    x = F.relu(self.fc2(x))#non linear\n",
        "    x = self.fc3(x)# Each of the 10 values = score (logit) for each class\n",
        "    return x\n",
        "\n",
        "net = Net()\n"
      ],
      "metadata": {
        "id": "RYO6LLfF3tgR"
      },
      "execution_count": 10,
      "outputs": []
    },
    {
      "cell_type": "code",
      "source": [
        "#Loss function and optimiser\n",
        "criterion = nn.CrossEntropyLoss()#penalise wrong predition and turns raw op into probab.\n",
        "optimizer = torch.optim.SGD(net.parameters(),lr = 0.001,momentum = 0.9)#updates the weights of the network based on the gradients from backpropagation."
      ],
      "metadata": {
        "id": "o27l6Wrb9znU"
      },
      "execution_count": 11,
      "outputs": []
    },
    {
      "cell_type": "code",
      "source": [
        "#Train loop\n",
        "epochs = 2\n",
        "for epoch in range(epochs):\n",
        "  net.train() #train mode\n",
        "\n",
        "\n",
        "  running_loss = 0\n",
        "  for i , data in enumerate(trainloader,0):\n",
        "    inputsPATH = './cifar_net.pth'\n",
        "torch.save(net.state_dict(), PATH), labels = data\n",
        "\n",
        "    optimizer.zero_grad() # reset grad\n",
        "    outputs = net(inputs) #forward pass\n",
        "    loss = criterion(outputs,labels) #loss\n",
        "    loss.backward() #backward pass\n",
        "    optimizer.step() #update weights\n",
        "\n",
        "    running_loss += loss.item()\n",
        "    if i % 2000 == 1999:\n",
        "      print(f'[{epoch + 1}, {i + 1:5d}] loss: {running_loss / 2000:.3f}')\n",
        "      running_loss = 0.0\n",
        "\n",
        "\n"
      ],
      "metadata": {
        "colab": {
          "base_uri": "https://localhost:8080/"
        },
        "id": "fvXXsXcrAGlS",
        "outputId": "56968a49-90e3-47c2-c89c-506fa4cfcaf0"
      },
      "execution_count": 17,
      "outputs": [
        {
          "output_type": "stream",
          "name": "stdout",
          "text": [
            "[1,  2000] loss: 2.254\n",
            "[1,  4000] loss: 1.913\n",
            "[1,  6000] loss: 1.698\n",
            "[1,  8000] loss: 1.589\n",
            "[1, 10000] loss: 1.530\n",
            "[1, 12000] loss: 1.476\n",
            "[2,  2000] loss: 1.406\n",
            "[2,  4000] loss: 1.391\n",
            "[2,  6000] loss: 1.352\n",
            "[2,  8000] loss: 1.336\n",
            "[2, 10000] loss: 1.318\n",
            "[2, 12000] loss: 1.311\n"
          ]
        }
      ]
    },
    {
      "cell_type": "code",
      "source": [
        "PATH = '/content/drive/MyDrive/cifar_net.pth'\n",
        "torch.save(net.state_dict(), PATH)\n",
        "from google.colab import drive\n",
        "drive.mount('/content/drive')  # mount your Drive\n",
        "PATH = '/content/drive/MyDrive/cifar_net.pth'\n",
        "torch.save(net.state_dict(), PATH)\n"
      ],
      "metadata": {
        "colab": {
          "base_uri": "https://localhost:8080/"
        },
        "id": "QcB8wH5UBqhF",
        "outputId": "10ceea2f-64ed-468c-ffc4-b8d7ab394fac"
      },
      "execution_count": 24,
      "outputs": [
        {
          "output_type": "stream",
          "name": "stdout",
          "text": [
            "Drive already mounted at /content/drive; to attempt to forcibly remount, call drive.mount(\"/content/drive\", force_remount=True).\n"
          ]
        }
      ]
    },
    {
      "cell_type": "code",
      "source": [
        "dataiter = iter(testloader)\n",
        "images, labels = next(dataiter)\n",
        "\n",
        "# print images\n",
        "imshow(torchvision.utils.make_grid(images))\n",
        "print('GroundTruth: ', ' '.join(f'{classes[labels[j]]:5s}' for j in range(4)))"
      ],
      "metadata": {
        "colab": {
          "base_uri": "https://localhost:8080/",
          "height": 210
        },
        "id": "SD_EE8q3EEDl",
        "outputId": "b49955c2-a898-45a2-cdaa-217d13c83a81"
      },
      "execution_count": 25,
      "outputs": [
        {
          "output_type": "display_data",
          "data": {
            "text/plain": [
              "<Figure size 640x480 with 1 Axes>"
            ],
            "image/png": "[encoded data removed]"
          },
          "metadata": {}
        },
        {
          "output_type": "stream",
          "name": "stdout",
          "text": [
            "GroundTruth:  cat   ship  ship  plane\n"
          ]
        }
      ]
    },
    {
      "cell_type": "code",
      "source": [
        "outputs = net(images)"
      ],
      "metadata": {
        "id": "3UbvHH0mEwn-"
      },
      "execution_count": 26,
      "outputs": []
    },
    {
      "cell_type": "code",
      "source": [
        "_, predicted = torch.max(outputs, 1)\n",
        "\n",
        "print('Predicted: ', ' '.join(f'{classes[predicted[j]]:5s}'\n",
        "                              for j in range(4)))"
      ],
      "metadata": {
        "colab": {
          "base_uri": "https://localhost:8080/"
        },
        "id": "RZil4OWGEyN7",
        "outputId": "03d1d83e-3da5-41da-c4b0-4df7b8384f89"
      },
      "execution_count": 33,
      "outputs": [
        {
          "output_type": "stream",
          "name": "stdout",
          "text": [
            "Predicted:  cat   ship  ship  ship \n"
          ]
        }
      ]
    },
    {
      "cell_type": "code",
      "source": [
        "correct = 0\n",
        "total = 0\n",
        "# since we're not training, we don't need to calculate the gradients for our outputs\n",
        "with torch.no_grad():\n",
        "    for data in testloader:\n",
        "        images, labels = data\n",
        "        # calculate outputs by running images through the network\n",
        "        outputs = net(images)\n",
        "        # the class with the highest energy is what we choose as prediction\n",
        "        _, predicted = torch.max(outputs, 1)\n",
        "        total += labels.size(0)\n",
        "        correct += (predicted == labels).sum().item()\n",
        "\n",
        "print(f'Accuracy of the network on the 10000 test images: {100 * correct // total} %')"
      ],
      "metadata": {
        "colab": {
          "base_uri": "https://localhost:8080/"
        },
        "id": "rGIHc8PgE6T8",
        "outputId": "e684dd4c-6fee-4a8c-c75d-fc46e1ee7a24"
      },
      "execution_count": 34,
      "outputs": [
        {
          "output_type": "stream",
          "name": "stdout",
          "text": [
            "Accuracy of the network on the 10000 test images: 53 %\n"
          ]
        }
      ]
    },
    {
      "cell_type": "code",
      "source": [
        "# prepare to count predictions for each class\n",
        "correct_pred = {classname: 0 for classname in classes}\n",
        "total_pred = {classname: 0 for classname in classes}\n",
        "\n",
        "# again no gradients needed\n",
        "with torch.no_grad():\n",
        "    for data in testloader:\n",
        "        images, labels = data\n",
        "        outputs = net(images)\n",
        "        _, predictions = torch.max(outputs, 1)\n",
        "        # collect the correct predictions for each class\n",
        "        for label, prediction in zip(labels, predictions):\n",
        "            if label == prediction:\n",
        "                correct_pred[classes[label]] += 1\n",
        "            total_pred[classes[label]] += 1\n",
        "\n",
        "\n",
        "# print accuracy for each class\n",
        "for classname, correct_count in correct_pred.items():\n",
        "    accuracy = 100 * float(correct_count) / total_pred[classname]\n",
        "    print(f'Accuracy for class: {classname:5s} is {accuracy:.1f} %')"
      ],
      "metadata": {
        "colab": {
          "base_uri": "https://localhost:8080/"
        },
        "id": "ru53OdvcFDRt",
        "outputId": "12142265-48cd-4c64-ac1c-7a3329d380c0"
      },
      "execution_count": 35,
      "outputs": [
        {
          "output_type": "stream",
          "name": "stdout",
          "text": [
            "Accuracy for class: plane is 56.5 %\n",
            "Accuracy for class: car   is 76.8 %\n",
            "Accuracy for class: bird  is 32.2 %\n",
            "Accuracy for class: cat   is 48.2 %\n",
            "Accuracy for class: deer  is 42.8 %\n",
            "Accuracy for class: dog   is 32.0 %\n",
            "Accuracy for class: frog  is 77.1 %\n",
            "Accuracy for class: horse is 63.7 %\n",
            "Accuracy for class: ship  is 65.6 %\n",
            "Accuracy for class: truck is 44.3 %\n"
          ]
        }
      ]
    }
  ]
}