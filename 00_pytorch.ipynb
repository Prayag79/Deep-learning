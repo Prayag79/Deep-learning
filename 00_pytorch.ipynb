{
  "nbformat": 4,
  "nbformat_minor": 0,
  "metadata": {
    "colab": {
      "provenance": [],
      "authorship_tag": "ABX9TyPiClHGpm138t8hYWQROF7d",
      "include_colab_link": true
    },
    "kernelspec": {
      "name": "python3",
      "display_name": "Python 3"
    },
    "language_info": {
      "name": "python"
    }
  },
  "cells": [
    {
      "cell_type": "markdown",
      "metadata": {
        "id": "view-in-github",
        "colab_type": "text"
      },
      "source": [
        "<a href=\"https://colab.research.google.com/github/Prayag79/Deep-learning/blob/main/00_pytorch.ipynb\" target=\"_parent\"><img src=\"https://colab.research.google.com/assets/colab-badge.svg\" alt=\"Open In Colab\"/></a>"
      ]
    },
    {
      "cell_type": "code",
      "execution_count": 245,
      "metadata": {
        "colab": {
          "base_uri": "https://localhost:8080/"
        },
        "id": "5WSutFg5aghs",
        "outputId": "8ab23d5d-500f-4c3e-b96e-e2f14b980c15"
      },
      "outputs": [
        {
          "output_type": "stream",
          "name": "stdout",
          "text": [
            "2.8.0+cu126\n"
          ]
        }
      ],
      "source": [
        "import torch\n",
        "import pandas as pd\n",
        "import numpy as np\n",
        "import matplotlib.pyplot as plt\n",
        "print(torch.__version__)\n"
      ]
    },
    {
      "cell_type": "code",
      "source": [
        "#Tensors\n",
        "scalar = torch.tensor(9)\n",
        "scalar"
      ],
      "metadata": {
        "colab": {
          "base_uri": "https://localhost:8080/"
        },
        "id": "uHUeGI9jfwai",
        "outputId": "38460a86-b0ca-46af-a405-342fd305601c"
      },
      "execution_count": 246,
      "outputs": [
        {
          "output_type": "execute_result",
          "data": {
            "text/plain": [
              "tensor(9)"
            ]
          },
          "metadata": {},
          "execution_count": 246
        }
      ]
    },
    {
      "cell_type": "code",
      "source": [
        "scalar.ndim"
      ],
      "metadata": {
        "colab": {
          "base_uri": "https://localhost:8080/"
        },
        "id": "oX7OeK9DkKdd",
        "outputId": "d9319af5-4734-4651-bf8b-3fe9e80b2435"
      },
      "execution_count": 247,
      "outputs": [
        {
          "output_type": "execute_result",
          "data": {
            "text/plain": [
              "0"
            ]
          },
          "metadata": {},
          "execution_count": 247
        }
      ]
    },
    {
      "cell_type": "code",
      "source": [
        "#tensor to int\n",
        "scalar.item()"
      ],
      "metadata": {
        "colab": {
          "base_uri": "https://localhost:8080/"
        },
        "id": "062_sZuRkgRN",
        "outputId": "bd2332b2-4a0d-45d8-f1e7-8e11fac37005"
      },
      "execution_count": 248,
      "outputs": [
        {
          "output_type": "execute_result",
          "data": {
            "text/plain": [
              "9"
            ]
          },
          "metadata": {},
          "execution_count": 248
        }
      ]
    },
    {
      "cell_type": "code",
      "source": [
        "#vector\n",
        "vector = torch.tensor([7,9])\n",
        "vector.ndim\n"
      ],
      "metadata": {
        "colab": {
          "base_uri": "https://localhost:8080/"
        },
        "id": "kz2sSBSDkm10",
        "outputId": "dc0c3be6-bbe6-461d-a270-c2c7b1d4ec51"
      },
      "execution_count": 249,
      "outputs": [
        {
          "output_type": "execute_result",
          "data": {
            "text/plain": [
              "1"
            ]
          },
          "metadata": {},
          "execution_count": 249
        }
      ]
    },
    {
      "cell_type": "code",
      "source": [
        "vector.shape"
      ],
      "metadata": {
        "colab": {
          "base_uri": "https://localhost:8080/"
        },
        "id": "Ua2WdVZZlJ1r",
        "outputId": "e07abc1c-c269-4e54-c3a3-64e055473795"
      },
      "execution_count": 250,
      "outputs": [
        {
          "output_type": "execute_result",
          "data": {
            "text/plain": [
              "torch.Size([2])"
            ]
          },
          "metadata": {},
          "execution_count": 250
        }
      ]
    },
    {
      "cell_type": "code",
      "source": [
        "MATRIX = torch.tensor([[7,7,9],\n",
        "                       [8,9,1],\n",
        "                       [1,1,1]])\n",
        "MATRIX.ndim"
      ],
      "metadata": {
        "colab": {
          "base_uri": "https://localhost:8080/"
        },
        "id": "IxPrBhzxmYmi",
        "outputId": "8e21ca75-3e34-4f17-a05c-074e7850fc25"
      },
      "execution_count": 251,
      "outputs": [
        {
          "output_type": "execute_result",
          "data": {
            "text/plain": [
              "2"
            ]
          },
          "metadata": {},
          "execution_count": 251
        }
      ]
    },
    {
      "cell_type": "code",
      "source": [
        "MATRIX.shape"
      ],
      "metadata": {
        "colab": {
          "base_uri": "https://localhost:8080/"
        },
        "id": "zexStRuznK3h",
        "outputId": "308a1e25-f2b7-4be0-dcaf-a28b6e002aec"
      },
      "execution_count": 252,
      "outputs": [
        {
          "output_type": "execute_result",
          "data": {
            "text/plain": [
              "torch.Size([3, 3])"
            ]
          },
          "metadata": {},
          "execution_count": 252
        }
      ]
    },
    {
      "cell_type": "code",
      "source": [
        "#TENSOR\n",
        "TENSOR = torch.tensor([[[1,2,3],\n",
        "                        [1,2,3],\n",
        "                        [1,2,3]]])\n",
        "TENSOR.ndim\n"
      ],
      "metadata": {
        "colab": {
          "base_uri": "https://localhost:8080/"
        },
        "id": "30WEJB1cnOQ_",
        "outputId": "9996d06c-981e-4f6b-9a6c-513fba406de3"
      },
      "execution_count": 253,
      "outputs": [
        {
          "output_type": "execute_result",
          "data": {
            "text/plain": [
              "3"
            ]
          },
          "metadata": {},
          "execution_count": 253
        }
      ]
    },
    {
      "cell_type": "code",
      "source": [
        "#look at the shape (inresting)\n",
        "TENSOR.shape\n",
        "#one 3 by 3 tensor"
      ],
      "metadata": {
        "colab": {
          "base_uri": "https://localhost:8080/"
        },
        "id": "e7FFISspn3DJ",
        "outputId": "2dd1df45-8d11-4229-a1eb-b1d86a390910"
      },
      "execution_count": 254,
      "outputs": [
        {
          "output_type": "execute_result",
          "data": {
            "text/plain": [
              "torch.Size([1, 3, 3])"
            ]
          },
          "metadata": {},
          "execution_count": 254
        }
      ]
    },
    {
      "cell_type": "code",
      "source": [
        "TENSOR1 = torch.tensor([[[1,2],\n",
        "                        [1,2],\n",
        "                        [1,2]]])\n",
        "TENSOR1.shape"
      ],
      "metadata": {
        "colab": {
          "base_uri": "https://localhost:8080/"
        },
        "id": "JmG5ES95ocW9",
        "outputId": "7978a549-d004-47c0-ab7b-d2b10e0103aa"
      },
      "execution_count": 255,
      "outputs": [
        {
          "output_type": "execute_result",
          "data": {
            "text/plain": [
              "torch.Size([1, 3, 2])"
            ]
          },
          "metadata": {},
          "execution_count": 255
        }
      ]
    },
    {
      "cell_type": "code",
      "source": [
        "#random TENSORS\n",
        "#size(3, 4)\n",
        "random_tensor = torch.rand(3,4)\n",
        "random_tensor\n"
      ],
      "metadata": {
        "colab": {
          "base_uri": "https://localhost:8080/"
        },
        "id": "boxciiIVosAc",
        "outputId": "ce211f77-b405-489e-8c7c-495803f57ca1"
      },
      "execution_count": 256,
      "outputs": [
        {
          "output_type": "execute_result",
          "data": {
            "text/plain": [
              "tensor([[0.5352, 0.9802, 0.7321, 0.3491],\n",
              "        [0.2936, 0.7444, 0.9339, 0.4873],\n",
              "        [0.7142, 0.7505, 0.2988, 0.2044]])"
            ]
          },
          "metadata": {},
          "execution_count": 256
        }
      ]
    },
    {
      "cell_type": "code",
      "source": [
        "#creating a random tensor with similar shape to an image tensor\n",
        "random_image_tensor = torch.rand(size = (224,224,3))#height width colour channels ( rgb )\n",
        "random_image_tensor.shape, random_image_tensor.ndim"
      ],
      "metadata": {
        "colab": {
          "base_uri": "https://localhost:8080/"
        },
        "id": "c-LD-zUwqF8O",
        "outputId": "cce6e3f6-3914-43cb-ba98-a34a3d760219"
      },
      "execution_count": 257,
      "outputs": [
        {
          "output_type": "execute_result",
          "data": {
            "text/plain": [
              "(torch.Size([224, 224, 3]), 3)"
            ]
          },
          "metadata": {},
          "execution_count": 257
        }
      ]
    },
    {
      "cell_type": "code",
      "source": [
        "# zeros and one\n",
        "zeros = torch.zeros(3,4)\n",
        "zeros\n",
        "\n",
        "#very usefull for base net"
      ],
      "metadata": {
        "colab": {
          "base_uri": "https://localhost:8080/"
        },
        "id": "UE1VtmEijJMQ",
        "outputId": "231e1c0d-73c8-4175-ca2c-e94c17130c74"
      },
      "execution_count": 258,
      "outputs": [
        {
          "output_type": "execute_result",
          "data": {
            "text/plain": [
              "tensor([[0., 0., 0., 0.],\n",
              "        [0., 0., 0., 0.],\n",
              "        [0., 0., 0., 0.]])"
            ]
          },
          "metadata": {},
          "execution_count": 258
        }
      ]
    },
    {
      "cell_type": "code",
      "source": [
        "ones = torch.ones(3,4)\n",
        "ones"
      ],
      "metadata": {
        "colab": {
          "base_uri": "https://localhost:8080/"
        },
        "id": "xV8g_l9DjVD-",
        "outputId": "fd84b006-2066-4937-aa6d-ec602d6cc583"
      },
      "execution_count": 259,
      "outputs": [
        {
          "output_type": "execute_result",
          "data": {
            "text/plain": [
              "tensor([[1., 1., 1., 1.],\n",
              "        [1., 1., 1., 1.],\n",
              "        [1., 1., 1., 1.]])"
            ]
          },
          "metadata": {},
          "execution_count": 259
        }
      ]
    },
    {
      "cell_type": "code",
      "source": [
        "ones.dtype#data type\n"
      ],
      "metadata": {
        "colab": {
          "base_uri": "https://localhost:8080/"
        },
        "id": "4CoOGeMHjehQ",
        "outputId": "4d5f2222-038d-46b6-f69c-6303833a09f0"
      },
      "execution_count": 260,
      "outputs": [
        {
          "output_type": "execute_result",
          "data": {
            "text/plain": [
              "torch.float32"
            ]
          },
          "metadata": {},
          "execution_count": 260
        }
      ]
    },
    {
      "cell_type": "code",
      "source": [
        "# range of tensors and tensors_like\n",
        "#1.\n",
        "#arange takes (start,end,steps) ; excluding end ( similar to string slicing )\n",
        "a = torch.arange(0,10,1)\n",
        "a\n",
        "#a.dtype"
      ],
      "metadata": {
        "colab": {
          "base_uri": "https://localhost:8080/"
        },
        "id": "btc0cvL4jkPG",
        "outputId": "56f6fb05-2347-4585-e532-ea5b7c536b1e"
      },
      "execution_count": 261,
      "outputs": [
        {
          "output_type": "execute_result",
          "data": {
            "text/plain": [
              "tensor([0, 1, 2, 3, 4, 5, 6, 7, 8, 9])"
            ]
          },
          "metadata": {},
          "execution_count": 261
        }
      ]
    },
    {
      "cell_type": "code",
      "source": [
        "#2.tensor like\n",
        "\n",
        "ten_zeros = torch.zeros_like(input=a)\n",
        "ten_zeros\n"
      ],
      "metadata": {
        "colab": {
          "base_uri": "https://localhost:8080/"
        },
        "id": "iYgzD4a9kp-p",
        "outputId": "eb84b2f4-4c0b-4877-cb8b-d384726ce5a4"
      },
      "execution_count": 262,
      "outputs": [
        {
          "output_type": "execute_result",
          "data": {
            "text/plain": [
              "tensor([0, 0, 0, 0, 0, 0, 0, 0, 0, 0])"
            ]
          },
          "metadata": {},
          "execution_count": 262
        }
      ]
    },
    {
      "cell_type": "code",
      "source": [
        "#tensors datatype\n",
        "a=torch.tensor([.1,.2,.3],\n",
        "               dtype = None,\n",
        "               device = None,#useful when you change devices ( gpu , etc)\n",
        "               requires_grad=False) # if to track a gradients or not\n",
        "a,a.dtype #default dtype is float even if explicitly mentioned as none(but not in case of mentioning as int , check !)"
      ],
      "metadata": {
        "colab": {
          "base_uri": "https://localhost:8080/"
        },
        "id": "mftXSX_blpIR",
        "outputId": "dbea90e4-cd9f-4272-ad0a-a8e8c08dbfb5"
      },
      "execution_count": 263,
      "outputs": [
        {
          "output_type": "execute_result",
          "data": {
            "text/plain": [
              "(tensor([0.1000, 0.2000, 0.3000]), torch.float32)"
            ]
          },
          "metadata": {},
          "execution_count": 263
        }
      ]
    },
    {
      "cell_type": "code",
      "source": [
        "flt_16_tensor = a.type(torch.float16)\n",
        "flt_16_tensor\n",
        "\n",
        "# explore more from the documentation"
      ],
      "metadata": {
        "colab": {
          "base_uri": "https://localhost:8080/"
        },
        "id": "JNWvpWvWnrWo",
        "outputId": "d423a102-eb81-4b3c-feaf-0e89dfcf7682"
      },
      "execution_count": 264,
      "outputs": [
        {
          "output_type": "execute_result",
          "data": {
            "text/plain": [
              "tensor([0.1000, 0.2000, 0.3000], dtype=torch.float16)"
            ]
          },
          "metadata": {},
          "execution_count": 264
        }
      ]
    },
    {
      "cell_type": "code",
      "source": [
        "(a * flt_16_tensor).dtype # does not always works , sometimes throws up an error )"
      ],
      "metadata": {
        "colab": {
          "base_uri": "https://localhost:8080/"
        },
        "id": "vzn9gWc4pD9r",
        "outputId": "be5ced0b-dea2-4c8b-9f1d-036d04737121"
      },
      "execution_count": 265,
      "outputs": [
        {
          "output_type": "execute_result",
          "data": {
            "text/plain": [
              "torch.float32"
            ]
          },
          "metadata": {},
          "execution_count": 265
        }
      ]
    },
    {
      "cell_type": "code",
      "source": [
        "b = torch.tensor([1,2,3],\n",
        "                 dtype = torch.long)\n",
        "(a*b).dtype"
      ],
      "metadata": {
        "colab": {
          "base_uri": "https://localhost:8080/"
        },
        "id": "U6LAF9pUpbED",
        "outputId": "728cd19e-2383-4705-a897-51d0196172b2"
      },
      "execution_count": 266,
      "outputs": [
        {
          "output_type": "execute_result",
          "data": {
            "text/plain": [
              "torch.float32"
            ]
          },
          "metadata": {},
          "execution_count": 266
        }
      ]
    },
    {
      "cell_type": "code",
      "source": [
        "# Tensor opertions\n",
        "# 1. basic algebra\n",
        "# 2. linear algebra -- matrix multiplication\n"
      ],
      "metadata": {
        "id": "8a-XjWA9qeSb"
      },
      "execution_count": 267,
      "outputs": []
    },
    {
      "cell_type": "code",
      "source": [
        "tensor = torch.tensor([1,2,3])\n",
        "tensor + 10"
      ],
      "metadata": {
        "colab": {
          "base_uri": "https://localhost:8080/"
        },
        "id": "7c1Jif_js0QA",
        "outputId": "8c986cb4-ef24-45e7-f90d-3e3b25d49c5d"
      },
      "execution_count": 268,
      "outputs": [
        {
          "output_type": "execute_result",
          "data": {
            "text/plain": [
              "tensor([11, 12, 13])"
            ]
          },
          "metadata": {},
          "execution_count": 268
        }
      ]
    },
    {
      "cell_type": "code",
      "source": [
        "tensor*10"
      ],
      "metadata": {
        "colab": {
          "base_uri": "https://localhost:8080/"
        },
        "id": "vgZ-dk0fs8iL",
        "outputId": "b9790a43-d7cc-42ca-88a4-4dd0dd8f6635"
      },
      "execution_count": 269,
      "outputs": [
        {
          "output_type": "execute_result",
          "data": {
            "text/plain": [
              "tensor([10, 20, 30])"
            ]
          },
          "metadata": {},
          "execution_count": 269
        }
      ]
    },
    {
      "cell_type": "code",
      "source": [
        "tensor - 10"
      ],
      "metadata": {
        "colab": {
          "base_uri": "https://localhost:8080/"
        },
        "id": "EJN2TP-dtMTE",
        "outputId": "a63f8b12-a184-4ed6-ec51-c4f76ce0bde0"
      },
      "execution_count": 270,
      "outputs": [
        {
          "output_type": "execute_result",
          "data": {
            "text/plain": [
              "tensor([-9, -8, -7])"
            ]
          },
          "metadata": {},
          "execution_count": 270
        }
      ]
    },
    {
      "cell_type": "code",
      "source": [
        "tensor / 10"
      ],
      "metadata": {
        "colab": {
          "base_uri": "https://localhost:8080/"
        },
        "id": "3aBAberKtAXA",
        "outputId": "48a1d4b6-9165-4fbe-a386-de16fdefc33f"
      },
      "execution_count": 271,
      "outputs": [
        {
          "output_type": "execute_result",
          "data": {
            "text/plain": [
              "tensor([0.1000, 0.2000, 0.3000])"
            ]
          },
          "metadata": {},
          "execution_count": 271
        }
      ]
    },
    {
      "cell_type": "code",
      "source": [
        "# pytorch inbuilt functions\n",
        "torch.mul(tensor , 10)"
      ],
      "metadata": {
        "colab": {
          "base_uri": "https://localhost:8080/"
        },
        "id": "z2e4q-iqtPzh",
        "outputId": "838c87f3-4b68-43ad-d5de-0f4e58d4b16b"
      },
      "execution_count": 272,
      "outputs": [
        {
          "output_type": "execute_result",
          "data": {
            "text/plain": [
              "tensor([10, 20, 30])"
            ]
          },
          "metadata": {},
          "execution_count": 272
        }
      ]
    },
    {
      "cell_type": "code",
      "source": [
        "#MAtrix multiplication\n",
        "#1.Element wise\n",
        "#2.Matrix multiplication\n"
      ],
      "metadata": {
        "id": "EZgBXcw40Rsk"
      },
      "execution_count": 273,
      "outputs": []
    },
    {
      "cell_type": "code",
      "source": [
        "torch.matmul(tensor,tensor)"
      ],
      "metadata": {
        "colab": {
          "base_uri": "https://localhost:8080/"
        },
        "id": "hudJw22j0hBE",
        "outputId": "81de5faf-53e1-4caf-c4f5-ae37d92fc97a"
      },
      "execution_count": 274,
      "outputs": [
        {
          "output_type": "execute_result",
          "data": {
            "text/plain": [
              "tensor(14)"
            ]
          },
          "metadata": {},
          "execution_count": 274
        }
      ]
    },
    {
      "cell_type": "code",
      "source": [
        "torch.matmul(torch.rand(3,4) , torch.rand(4,10)) , torch.matmul(torch.rand(3,4) , torch.rand(4,10)).shape\n"
      ],
      "metadata": {
        "colab": {
          "base_uri": "https://localhost:8080/"
        },
        "id": "jRTnujsS2x3j",
        "outputId": "9b1ebffb-1474-410e-be3d-62b1f5f0575f"
      },
      "execution_count": 275,
      "outputs": [
        {
          "output_type": "execute_result",
          "data": {
            "text/plain": [
              "(tensor([[0.8798, 1.1208, 0.9800, 0.5609, 0.7268, 0.7330, 0.6967, 0.9622, 0.8490,\n",
              "          0.8276],\n",
              "         [0.8155, 1.1461, 0.9884, 0.9752, 0.9628, 0.8544, 0.6340, 1.1292, 0.7847,\n",
              "          0.8834],\n",
              "         [1.6155, 2.2087, 1.9431, 1.4748, 1.7015, 1.5501, 1.3660, 2.0412, 1.6371,\n",
              "          1.7050]]),\n",
              " torch.Size([3, 10]))"
            ]
          },
          "metadata": {},
          "execution_count": 275
        }
      ]
    },
    {
      "cell_type": "code",
      "source": [
        "#Transpose\n",
        "a=torch.rand(3,2)\n",
        "b = torch.rand(3,2)\n",
        "c=torch.mm(a,b.T)\n",
        "c"
      ],
      "metadata": {
        "colab": {
          "base_uri": "https://localhost:8080/"
        },
        "id": "0HSBdjDy3WB3",
        "outputId": "8b3f4ae8-8fed-4c3c-d736-e28b258c9c9c"
      },
      "execution_count": 276,
      "outputs": [
        {
          "output_type": "execute_result",
          "data": {
            "text/plain": [
              "tensor([[0.3702, 0.3545, 0.4393],\n",
              "        [0.3331, 0.3723, 0.3823],\n",
              "        [0.3773, 0.4460, 0.4272]])"
            ]
          },
          "metadata": {},
          "execution_count": 276
        }
      ]
    },
    {
      "cell_type": "code",
      "source": [
        "#MAx, min , mean , sum , etc\n",
        "x=torch.arange(1,101)\n",
        "x\n"
      ],
      "metadata": {
        "colab": {
          "base_uri": "https://localhost:8080/"
        },
        "id": "_e9YF1zi39r2",
        "outputId": "340df210-bac2-45a1-ff1a-f7c0c627471c"
      },
      "execution_count": 277,
      "outputs": [
        {
          "output_type": "execute_result",
          "data": {
            "text/plain": [
              "tensor([  1,   2,   3,   4,   5,   6,   7,   8,   9,  10,  11,  12,  13,  14,\n",
              "         15,  16,  17,  18,  19,  20,  21,  22,  23,  24,  25,  26,  27,  28,\n",
              "         29,  30,  31,  32,  33,  34,  35,  36,  37,  38,  39,  40,  41,  42,\n",
              "         43,  44,  45,  46,  47,  48,  49,  50,  51,  52,  53,  54,  55,  56,\n",
              "         57,  58,  59,  60,  61,  62,  63,  64,  65,  66,  67,  68,  69,  70,\n",
              "         71,  72,  73,  74,  75,  76,  77,  78,  79,  80,  81,  82,  83,  84,\n",
              "         85,  86,  87,  88,  89,  90,  91,  92,  93,  94,  95,  96,  97,  98,\n",
              "         99, 100])"
            ]
          },
          "metadata": {},
          "execution_count": 277
        }
      ]
    },
    {
      "cell_type": "code",
      "source": [
        "torch.min(x) , x.min()"
      ],
      "metadata": {
        "colab": {
          "base_uri": "https://localhost:8080/"
        },
        "id": "1GFVCHGX4k6K",
        "outputId": "a8e0ed45-5155-4325-87ad-f1abf68d1e70"
      },
      "execution_count": 278,
      "outputs": [
        {
          "output_type": "execute_result",
          "data": {
            "text/plain": [
              "(tensor(1), tensor(1))"
            ]
          },
          "metadata": {},
          "execution_count": 278
        }
      ]
    },
    {
      "cell_type": "code",
      "source": [
        "torch.max(x)"
      ],
      "metadata": {
        "colab": {
          "base_uri": "https://localhost:8080/"
        },
        "id": "Rb6bR0Ev4t8G",
        "outputId": "6b096bbe-797b-4595-939b-e3b1d47e01ce"
      },
      "execution_count": 279,
      "outputs": [
        {
          "output_type": "execute_result",
          "data": {
            "text/plain": [
              "tensor(100)"
            ]
          },
          "metadata": {},
          "execution_count": 279
        }
      ]
    },
    {
      "cell_type": "code",
      "source": [
        "#lol it requires float32\n",
        "torch.mean(x)\n",
        "#torch.mean(x,dtype=torch.float32) ----> fix"
      ],
      "metadata": {
        "colab": {
          "base_uri": "https://localhost:8080/",
          "height": 173
        },
        "id": "D8NdwpGf4w3E",
        "outputId": "a1415c83-039a-4e88-a536-cb2b76134454"
      },
      "execution_count": 280,
      "outputs": [
        {
          "output_type": "error",
          "ename": "RuntimeError",
          "evalue": "mean(): could not infer output dtype. Input dtype must be either a floating point or complex dtype. Got: Long",
          "traceback": [
            "\u001b[0;31m---------------------------------------------------------------------------\u001b[0m",
            "\u001b[0;31mRuntimeError\u001b[0m                              Traceback (most recent call last)",
            "\u001b[0;32m/tmp/ipython-input-2536065954.py\u001b[0m in \u001b[0;36m<cell line: 0>\u001b[0;34m()\u001b[0m\n\u001b[1;32m      1\u001b[0m \u001b[0;31m#lol it requires float32\u001b[0m\u001b[0;34m\u001b[0m\u001b[0;34m\u001b[0m\u001b[0m\n\u001b[0;32m----> 2\u001b[0;31m \u001b[0mtorch\u001b[0m\u001b[0;34m.\u001b[0m\u001b[0mmean\u001b[0m\u001b[0;34m(\u001b[0m\u001b[0mx\u001b[0m\u001b[0;34m)\u001b[0m\u001b[0;34m\u001b[0m\u001b[0;34m\u001b[0m\u001b[0m\n\u001b[0m\u001b[1;32m      3\u001b[0m \u001b[0;31m#torch.mean(x,dtype=torch.float32) ----> fix\u001b[0m\u001b[0;34m\u001b[0m\u001b[0;34m\u001b[0m\u001b[0m\n",
            "\u001b[0;31mRuntimeError\u001b[0m: mean(): could not infer output dtype. Input dtype must be either a floating point or complex dtype. Got: Long"
          ]
        }
      ]
    },
    {
      "cell_type": "code",
      "source": [
        "torch.sum(x)"
      ],
      "metadata": {
        "id": "NqnMD5Yq5fR2"
      },
      "execution_count": null,
      "outputs": []
    },
    {
      "cell_type": "code",
      "source": [
        "#Argument\n",
        "x[x.argmin()]\n"
      ],
      "metadata": {
        "colab": {
          "base_uri": "https://localhost:8080/"
        },
        "id": "fkHVZe9A5tOV",
        "outputId": "a14a5334-2d48-4680-9f66-a3973093f622"
      },
      "execution_count": 281,
      "outputs": [
        {
          "output_type": "execute_result",
          "data": {
            "text/plain": [
              "tensor(1)"
            ]
          },
          "metadata": {},
          "execution_count": 281
        }
      ]
    },
    {
      "cell_type": "code",
      "source": [
        "#Reshaping , stacking , squeezing , unsqueezing"
      ],
      "metadata": {
        "id": "97z0Xlmr7gB5"
      },
      "execution_count": 282,
      "outputs": []
    },
    {
      "cell_type": "code",
      "source": [
        "x=torch.arange(1,10)\n",
        "x,x.shape , x.ndim"
      ],
      "metadata": {
        "colab": {
          "base_uri": "https://localhost:8080/"
        },
        "id": "XAcfJnyOGGew",
        "outputId": "eb1d2a4c-5898-454b-b8af-ae899b208a93"
      },
      "execution_count": 283,
      "outputs": [
        {
          "output_type": "execute_result",
          "data": {
            "text/plain": [
              "(tensor([1, 2, 3, 4, 5, 6, 7, 8, 9]), torch.Size([9]), 1)"
            ]
          },
          "metadata": {},
          "execution_count": 283
        }
      ]
    },
    {
      "cell_type": "code",
      "source": [
        "#add extra dim\n",
        "x_reshaped = x.reshape(1,9)\n",
        "x_reshaped , x_reshaped.shape , x_reshaped.ndim\n"
      ],
      "metadata": {
        "colab": {
          "base_uri": "https://localhost:8080/"
        },
        "id": "EgBUYvwPHr9n",
        "outputId": "4e0b5ab6-370c-44bf-8642-7b20fbb7a278"
      },
      "execution_count": 285,
      "outputs": [
        {
          "output_type": "execute_result",
          "data": {
            "text/plain": [
              "(tensor([[1, 2, 3, 4, 5, 6, 7, 8, 9]]), torch.Size([1, 9]), 2)"
            ]
          },
          "metadata": {},
          "execution_count": 285
        }
      ]
    },
    {
      "cell_type": "code",
      "source": [
        "#change the view\n",
        "z=x.view(1,9)#changing z changes ****x**** cuz it shares memory\n",
        "z,z.shape"
      ],
      "metadata": {
        "colab": {
          "base_uri": "https://localhost:8080/"
        },
        "id": "A2Pp6TG1PX7O",
        "outputId": "3b6a6601-6a0d-478f-9c83-8035610cefe2"
      },
      "execution_count": 286,
      "outputs": [
        {
          "output_type": "execute_result",
          "data": {
            "text/plain": [
              "(tensor([[1, 2, 3, 4, 5, 6, 7, 8, 9]]), torch.Size([1, 9]))"
            ]
          },
          "metadata": {},
          "execution_count": 286
        }
      ]
    },
    {
      "cell_type": "code",
      "source": [
        "#Stack tensors on top of each other\n",
        "x_stacked = torch.stack([x,x,x,x],dim =0)\n",
        "x_stacked\n"
      ],
      "metadata": {
        "colab": {
          "base_uri": "https://localhost:8080/"
        },
        "id": "d51SMh9rQR3l",
        "outputId": "525081ca-b6c5-4a7c-b81c-37d665d05acf"
      },
      "execution_count": 287,
      "outputs": [
        {
          "output_type": "execute_result",
          "data": {
            "text/plain": [
              "tensor([[1, 2, 3, 4, 5, 6, 7, 8, 9],\n",
              "        [1, 2, 3, 4, 5, 6, 7, 8, 9],\n",
              "        [1, 2, 3, 4, 5, 6, 7, 8, 9],\n",
              "        [1, 2, 3, 4, 5, 6, 7, 8, 9]])"
            ]
          },
          "metadata": {},
          "execution_count": 287
        }
      ]
    },
    {
      "cell_type": "code",
      "source": [
        "x"
      ],
      "metadata": {
        "colab": {
          "base_uri": "https://localhost:8080/"
        },
        "id": "A-PkgPbeSu7O",
        "outputId": "586f0de8-1f54-4c8b-91c7-4bbbc95aac65"
      },
      "execution_count": 288,
      "outputs": [
        {
          "output_type": "execute_result",
          "data": {
            "text/plain": [
              "tensor([1, 2, 3, 4, 5, 6, 7, 8, 9])"
            ]
          },
          "metadata": {},
          "execution_count": 288
        }
      ]
    },
    {
      "cell_type": "code",
      "source": [
        "#squeeze\n",
        "torch.squeeze(x_reshaped)#remove all 1D\n",
        "\n",
        "\n",
        "#The returned tensor shares the storage with the input tensor, so changing the contents of one will change the contents of the other"
      ],
      "metadata": {
        "colab": {
          "base_uri": "https://localhost:8080/"
        },
        "id": "5jpnx8CASOES",
        "outputId": "f6dde904-1931-489d-da93-1753a119d714"
      },
      "execution_count": 289,
      "outputs": [
        {
          "output_type": "execute_result",
          "data": {
            "text/plain": [
              "tensor([1, 2, 3, 4, 5, 6, 7, 8, 9])"
            ]
          },
          "metadata": {},
          "execution_count": 289
        }
      ]
    },
    {
      "cell_type": "code",
      "source": [
        "x = torch.zeros(2, 1, 2, 1, 2)\n",
        "y = torch.squeeze(x) #2x2x2\n",
        "y.size()"
      ],
      "metadata": {
        "colab": {
          "base_uri": "https://localhost:8080/"
        },
        "id": "DHuInLDWTxOx",
        "outputId": "759bd3da-8aa6-4b77-a536-e1036c485f55"
      },
      "execution_count": 290,
      "outputs": [
        {
          "output_type": "execute_result",
          "data": {
            "text/plain": [
              "torch.Size([2, 2, 2])"
            ]
          },
          "metadata": {},
          "execution_count": 290
        }
      ]
    },
    {
      "cell_type": "code",
      "source": [
        "z = y.unsqueeze(dim = 0)# adds extra 1 dim\n",
        "z.shape\n"
      ],
      "metadata": {
        "colab": {
          "base_uri": "https://localhost:8080/"
        },
        "id": "udleDtojVqaU",
        "outputId": "83a42f1c-6827-46c5-e5dc-8d8367dbd5b9"
      },
      "execution_count": 291,
      "outputs": [
        {
          "output_type": "execute_result",
          "data": {
            "text/plain": [
              "torch.Size([1, 2, 2, 2])"
            ]
          },
          "metadata": {},
          "execution_count": 291
        }
      ]
    },
    {
      "cell_type": "code",
      "source": [
        "#permute\n",
        "x = torch.rand(2,3,5)\n",
        "x.size() , x.permute(2,0,1).size()"
      ],
      "metadata": {
        "colab": {
          "base_uri": "https://localhost:8080/"
        },
        "id": "JCz8EYvcZiRA",
        "outputId": "c719cb5d-3308-48f9-a5bc-1d4fd8fb2d59"
      },
      "execution_count": 292,
      "outputs": [
        {
          "output_type": "execute_result",
          "data": {
            "text/plain": [
              "(torch.Size([2, 3, 5]), torch.Size([5, 2, 3]))"
            ]
          },
          "metadata": {},
          "execution_count": 292
        }
      ]
    },
    {
      "cell_type": "code",
      "source": [
        "#indexing\n",
        "x = torch.arange(1,10).reshape(1,3,3)\n",
        "x"
      ],
      "metadata": {
        "colab": {
          "base_uri": "https://localhost:8080/"
        },
        "id": "gUMuCqKVcUXR",
        "outputId": "6f3feb5e-4657-4df8-e5f8-087301c81fd8"
      },
      "execution_count": 296,
      "outputs": [
        {
          "output_type": "execute_result",
          "data": {
            "text/plain": [
              "(tensor([[[1, 2, 3],\n",
              "          [4, 5, 6],\n",
              "          [7, 8, 9]]]),\n",
              " 3)"
            ]
          },
          "metadata": {},
          "execution_count": 296
        }
      ]
    },
    {
      "cell_type": "code",
      "source": [
        "x[0]"
      ],
      "metadata": {
        "colab": {
          "base_uri": "https://localhost:8080/"
        },
        "id": "XP58crl4c_ec",
        "outputId": "ed8f5cea-e660-430b-90a9-0a0b62c18de2"
      },
      "execution_count": 297,
      "outputs": [
        {
          "output_type": "execute_result",
          "data": {
            "text/plain": [
              "tensor([[1, 2, 3],\n",
              "        [4, 5, 6],\n",
              "        [7, 8, 9]])"
            ]
          },
          "metadata": {},
          "execution_count": 297
        }
      ]
    },
    {
      "cell_type": "code",
      "source": [
        "#mid bracket\n",
        "x[0][0] # or x[0,0]"
      ],
      "metadata": {
        "colab": {
          "base_uri": "https://localhost:8080/"
        },
        "id": "SamQ_BdjdGGp",
        "outputId": "da017bcd-409c-4205-cc09-b444ebf71a72"
      },
      "execution_count": 298,
      "outputs": [
        {
          "output_type": "execute_result",
          "data": {
            "text/plain": [
              "tensor([1, 2, 3])"
            ]
          },
          "metadata": {},
          "execution_count": 298
        }
      ]
    },
    {
      "cell_type": "code",
      "source": [
        "#last dim\n",
        "x[0][0][0]"
      ],
      "metadata": {
        "colab": {
          "base_uri": "https://localhost:8080/"
        },
        "id": "nY9RwV6KdRMi",
        "outputId": "089f873f-f794-4216-9280-5eb14350b592"
      },
      "execution_count": 299,
      "outputs": [
        {
          "output_type": "execute_result",
          "data": {
            "text/plain": [
              "tensor(1)"
            ]
          },
          "metadata": {},
          "execution_count": 299
        }
      ]
    },
    {
      "cell_type": "code",
      "source": [
        "x[0][2][2]"
      ],
      "metadata": {
        "colab": {
          "base_uri": "https://localhost:8080/"
        },
        "id": "Tup2Cx8rdt_i",
        "outputId": "dbf57a5b-3919-4ae2-8be2-fbaa4d6e2f4c"
      },
      "execution_count": 300,
      "outputs": [
        {
          "output_type": "execute_result",
          "data": {
            "text/plain": [
              "tensor(9)"
            ]
          },
          "metadata": {},
          "execution_count": 300
        }
      ]
    },
    {
      "cell_type": "code",
      "source": [
        "import numpy as np"
      ],
      "metadata": {
        "id": "aJI3aGKXd2XL"
      },
      "execution_count": 306,
      "outputs": []
    },
    {
      "cell_type": "code",
      "source": [
        "# torch.from_numpy(ndarray)\n",
        "# torch.Tensor.numpy()\n"
      ],
      "metadata": {
        "id": "OPem-UAZgm0O"
      },
      "execution_count": null,
      "outputs": []
    },
    {
      "cell_type": "code",
      "source": [
        "array = np.arange(1.0 , 8.0)\n",
        "tensor = torch.from_numpy(array)#.type to change dtype\n",
        "array , tensor"
      ],
      "metadata": {
        "colab": {
          "base_uri": "https://localhost:8080/"
        },
        "id": "ocAf8Qwig05s",
        "outputId": "2fb874e7-3ef0-4695-91af-8ee0ef1eecc4"
      },
      "execution_count": 327,
      "outputs": [
        {
          "output_type": "execute_result",
          "data": {
            "text/plain": [
              "tensor([1., 2., 3., 4., 5., 6., 7.], dtype=torch.float64)"
            ]
          },
          "metadata": {},
          "execution_count": 327
        }
      ]
    },
    {
      "cell_type": "code",
      "source": [
        "#array += 1\n",
        "#tensor # tensor gets updated as they shares memory"
      ],
      "metadata": {
        "colab": {
          "base_uri": "https://localhost:8080/"
        },
        "id": "ZjjRkhlOmage",
        "outputId": "33be8382-ba72-4946-b7f7-adce4fed65d1"
      },
      "execution_count": 335,
      "outputs": [
        {
          "output_type": "execute_result",
          "data": {
            "text/plain": [
              "(array([3., 4., 5., 6., 7., 8., 9.]),\n",
              " tensor([3., 4., 5., 6., 7., 8., 9.], dtype=torch.float64))"
            ]
          },
          "metadata": {},
          "execution_count": 335
        }
      ]
    },
    {
      "cell_type": "code",
      "source": [
        "#tensor to numpy\n",
        "tensor = torch.ones(7)\n",
        "numpy_tensor = tensor.numpy()\n",
        "tensor , numpy_tensor\n"
      ],
      "metadata": {
        "colab": {
          "base_uri": "https://localhost:8080/"
        },
        "id": "mblxI64GnRdK",
        "outputId": "e97e81ed-0e01-4ec4-d03e-b1966b698302"
      },
      "execution_count": 337,
      "outputs": [
        {
          "output_type": "execute_result",
          "data": {
            "text/plain": [
              "(tensor([1., 1., 1., 1., 1., 1., 1.]),\n",
              " array([1., 1., 1., 1., 1., 1., 1.], dtype=float32))"
            ]
          },
          "metadata": {},
          "execution_count": 337
        }
      ]
    },
    {
      "cell_type": "markdown",
      "source": [
        "## Reproduciblity"
      ],
      "metadata": {
        "id": "YvddKa6mpRiv"
      }
    },
    {
      "cell_type": "code",
      "source": [
        "import torch\n",
        "r1 = torch.rand(3,4)\n",
        "r2 = torch.rand(3,4)\n",
        "\n",
        "r1 , r2 , print(r1==r2)"
      ],
      "metadata": {
        "colab": {
          "base_uri": "https://localhost:8080/"
        },
        "id": "oNiWb-S1pPc-",
        "outputId": "81faee53-ca03-46ba-e557-674feebb8402"
      },
      "execution_count": 350,
      "outputs": [
        {
          "output_type": "stream",
          "name": "stdout",
          "text": [
            "tensor([[False, False, False, False],\n",
            "        [False, False, False, False],\n",
            "        [False, False, False, False]])\n"
          ]
        },
        {
          "output_type": "execute_result",
          "data": {
            "text/plain": [
              "(tensor([[0.4776, 0.9511, 0.2743, 0.2513],\n",
              "         [0.8284, 0.4615, 0.5465, 0.0608],\n",
              "         [0.1474, 0.1837, 0.7576, 0.0268]]),\n",
              " tensor([[0.6825, 0.6150, 0.4481, 0.8354],\n",
              "         [0.9825, 0.1245, 0.3621, 0.5501],\n",
              "         [0.1370, 0.8976, 0.9238, 0.2353]]),\n",
              " None)"
            ]
          },
          "metadata": {},
          "execution_count": 350
        }
      ]
    },
    {
      "cell_type": "code",
      "source": [
        "RANDOM_SEED = 42\n",
        "torch.manual_seed(RANDOM_SEED)\n",
        "c = torch.rand(3,4)\n",
        "\n",
        "torch.manual_seed(RANDOM_SEED)\n",
        "d = torch.rand(3,4)\n",
        "c,d,print(c==d)"
      ],
      "metadata": {
        "colab": {
          "base_uri": "https://localhost:8080/"
        },
        "id": "fQ2cwuBuqMBq",
        "outputId": "8676e0a1-d11b-46c3-a8ae-d44abfe52197"
      },
      "execution_count": 360,
      "outputs": [
        {
          "output_type": "stream",
          "name": "stdout",
          "text": [
            "tensor([[True, True, True, True],\n",
            "        [True, True, True, True],\n",
            "        [True, True, True, True]])\n"
          ]
        },
        {
          "output_type": "execute_result",
          "data": {
            "text/plain": [
              "(tensor([[0.8823, 0.9150, 0.3829, 0.9593],\n",
              "         [0.3904, 0.6009, 0.2566, 0.7936],\n",
              "         [0.9408, 0.1332, 0.9346, 0.5936]]),\n",
              " tensor([[0.8823, 0.9150, 0.3829, 0.9593],\n",
              "         [0.3904, 0.6009, 0.2566, 0.7936],\n",
              "         [0.9408, 0.1332, 0.9346, 0.5936]]),\n",
              " None)"
            ]
          },
          "metadata": {},
          "execution_count": 360
        }
      ]
    }
  ]
}